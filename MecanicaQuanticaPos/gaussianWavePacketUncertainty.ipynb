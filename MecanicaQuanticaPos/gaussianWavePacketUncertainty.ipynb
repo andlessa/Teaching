{
 "cells": [
  {
   "cell_type": "code",
   "execution_count": 1,
   "metadata": {},
   "outputs": [],
   "source": [
    "%matplotlib inline"
   ]
  },
  {
   "cell_type": "code",
   "execution_count": 2,
   "metadata": {},
   "outputs": [],
   "source": [
    "import numpy as np\n",
    "from scipy.fftpack import fft,ifft\n",
    "from schrodinger import Schrodinger\n",
    "import matplotlib.pyplot as plt\n",
    "import scipy\n",
    "import sympy as sp\n",
    "import ipywidgets as widgets\n",
    "\n",
    "from matplotlib import animation, rc\n",
    "from IPython.display import HTML\n",
    "rc('animation', html='jshtml')\n",
    "import seaborn as sns\n",
    "\n",
    "#Define plotting style:\n",
    "sns.set() #Set style\n",
    "sns.set_style('ticks',{'font.family':'serif', 'font.serif':'Times New Roman'})\n",
    "sns.set_context('poster', font_scale=0.9,  rc={\"lines.linewidth\": 5})"
   ]
  },
  {
   "cell_type": "code",
   "execution_count": 3,
   "metadata": {},
   "outputs": [],
   "source": [
    "# specify constants\n",
    "hbar = 1.0   # planck's constant\n",
    "m = 1.9      # particle mass"
   ]
  },
  {
   "cell_type": "markdown",
   "metadata": {},
   "source": [
    "### Plot wave-function in space and momentum space"
   ]
  },
  {
   "cell_type": "code",
   "execution_count": 16,
   "metadata": {},
   "outputs": [],
   "source": [
    "#Specify initial wave function at grid points:\n",
    "@np.vectorize\n",
    "def psiF(x,sigma=1.0,k0=1):\n",
    "    norm = 1/(np.pi*sigma**2)**(1/4)\n",
    "    f = np.exp(-(x)**2/(4*sigma**2))\n",
    "    f *= np.exp(complex(0,k0*x))\n",
    "    \n",
    "    return  norm*f\n",
    "\n",
    "@np.vectorize\n",
    "def psiP(p,sigma=1.0,k0=1):\n",
    "    norm = np.sqrt(sigma/hbar)/(np.pi**(1/4))\n",
    "    f = np.exp(-(p-hbar*k0)**2/(2*((hbar/sigma)**2)))\n",
    "    \n",
    "    return  norm*f"
   ]
  },
  {
   "cell_type": "code",
   "execution_count": 22,
   "metadata": {},
   "outputs": [
    {
     "data": {
      "application/vnd.jupyter.widget-view+json": {
       "model_id": "12467fd2137d4ff793610e2cf39c7b1c",
       "version_major": 2,
       "version_minor": 0
      },
      "text/plain": [
       "interactive(children=(FloatSlider(value=1.0, description='sigma', max=10.0, min=0.01), IntSlider(value=1, desc…"
      ]
     },
     "metadata": {},
     "output_type": "display_data"
    }
   ],
   "source": [
    "@widgets.interact(sigma=(0.01, 10.),k0=(-10,10))\n",
    "def plot(sigma=1.0, k0=1.0):    \n",
    "    x = np.linspace(-20,20,2000)\n",
    "    p = np.linspace(-20,20,2000)\n",
    "    fig,ax = plt.subplots(figsize=(15,7),nrows=1,ncols=2,)\n",
    "    psi2 = np.abs(psiF(x=x,sigma=sigma,k0=k0))**2\n",
    "    psiP2 = np.abs(psiP(p=p,sigma=sigma,k0=k0))**2\n",
    "    \n",
    "    \n",
    "    ax[0].plot(x,psi2,linestyle='-',label=r'$|\\psi(x)|^2$',linewidth=2)\n",
    "    ax[0].set_xlim(-20,20)\n",
    "    ax[0].set_ylim(0,1)\n",
    "    ax[0].set_xlabel(r'$x$')\n",
    "    ax[1].set_xlabel(r'$p$')\n",
    "    ax[1].plot(p,psiP2,linestyle='-',label=r'$|\\tilde{\\psi}(p)|^2$',linewidth=2,c='red')    \n",
    "    ax[1].set_xlim(-20,20)\n",
    "    ax[1].set_ylim(0,5)\n",
    "    ax[0].legend()\n",
    "    ax[1].legend()\n",
    "    plt.show()"
   ]
  },
  {
   "cell_type": "code",
   "execution_count": 25,
   "metadata": {},
   "outputs": [],
   "source": [
    "#Specify initial wave function at grid points:\n",
    "@np.vectorize\n",
    "def psi2F(x,sigma=1.0,k0=1,t=0):\n",
    "    at = (sigma**4 + hbar**2*t**2/m**2)**(1/4)\n",
    "    v0 = hbar*k0/m\n",
    "    \n",
    "    norm = sigma/(np.sqrt(np.pi)*at**2)\n",
    "    f = np.exp(-(x-v0*t)**2/(sigma**2*(1+hbar**2*t**2/(m**2*sigma**2))))    \n",
    "    return  norm*f\n",
    "\n",
    "@np.vectorize\n",
    "def psi2P(p,sigma=1.0,k0=1,t=0):\n",
    "    norm = (sigma/hbar)/(np.sqrt(np.pi))\n",
    "    f = np.exp(-(p-hbar*k0)**2/((hbar/sigma)**2))\n",
    "    \n",
    "    return  norm*f"
   ]
  },
  {
   "cell_type": "code",
   "execution_count": 28,
   "metadata": {},
   "outputs": [
    {
     "data": {
      "application/vnd.jupyter.widget-view+json": {
       "model_id": "1e5a29c83cc4432e8a4c190a8e1259b1",
       "version_major": 2,
       "version_minor": 0
      },
      "text/plain": [
       "interactive(children=(FloatSlider(value=1.0, description='sigma', max=10.0, min=0.01), IntSlider(value=1, desc…"
      ]
     },
     "metadata": {},
     "output_type": "display_data"
    }
   ],
   "source": [
    "@widgets.interact(sigma=(0.01, 10.),k0=(-10,10),t=(0,30))\n",
    "def plot(sigma=1.0, k0=1.0,t=0.0):    \n",
    "    x = np.linspace(-20,20,2000)\n",
    "    p = np.linspace(-20,20,2000)\n",
    "    fig,ax = plt.subplots(figsize=(15,7),nrows=1,ncols=2,)\n",
    "    psi2 = psi2F(x=x,sigma=sigma,k0=k0,t=t)\n",
    "    psiP2 = psi2P(p=p,sigma=sigma,k0=k0,t=t)\n",
    "    \n",
    "    \n",
    "    ax[0].plot(x,psi2,linestyle='-',label=r'$|\\psi(x)|^2$',linewidth=2)\n",
    "    ax[0].set_xlim(-20,20)\n",
    "    ax[0].set_ylim(0,1)\n",
    "    ax[0].set_xlabel(r'$x$')\n",
    "    ax[1].set_xlabel(r'$p$')\n",
    "    ax[1].plot(p,psiP2,linestyle='-',label=r'$|\\tilde{\\psi}(p)|^2$',linewidth=2,c='red')    \n",
    "    ax[1].set_xlim(-20,20)\n",
    "    ax[1].set_ylim(0,5)\n",
    "    ax[0].legend()\n",
    "    ax[1].legend()\n",
    "    plt.show()"
   ]
  },
  {
   "cell_type": "code",
   "execution_count": null,
   "metadata": {},
   "outputs": [],
   "source": []
  }
 ],
 "metadata": {
  "kernelspec": {
   "display_name": "Python 3 (ipykernel)",
   "language": "python",
   "name": "python3"
  },
  "language_info": {
   "codemirror_mode": {
    "name": "ipython",
    "version": 3
   },
   "file_extension": ".py",
   "mimetype": "text/x-python",
   "name": "python",
   "nbconvert_exporter": "python",
   "pygments_lexer": "ipython3",
   "version": "3.9.7"
  }
 },
 "nbformat": 4,
 "nbformat_minor": 4
}
