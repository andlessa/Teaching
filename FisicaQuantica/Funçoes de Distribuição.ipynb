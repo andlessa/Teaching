{
 "cells": [
  {
   "cell_type": "markdown",
   "metadata": {},
   "source": [
    "Pacotes Importantes para a Simulação"
   ]
  },
  {
   "cell_type": "code",
   "execution_count": null,
   "metadata": {},
   "outputs": [],
   "source": [
    "import matplotlib.pyplot as plt\n",
    "import numpy as np"
   ]
  },
  {
   "cell_type": "markdown",
   "metadata": {},
   "source": [
    "# Definimos x como sendo o resultado de N jogadas de um dado de 6 Lados"
   ]
  },
  {
   "cell_type": "code",
   "execution_count": null,
   "metadata": {},
   "outputs": [],
   "source": [
    "Njogadas = 10\n",
    "x = np.random.randint(1,high=7, size=Njogadas)\n",
    "\n",
    "plt.figure(1, figsize=(30, 10))\n",
    "plt.subplot(131)\n",
    "plt.hist(x,bins=np.arange(0.5,7,1),density=False,rwidth=0.5,align='mid',facecolor='b', alpha=0.75)\n",
    "plt.xlabel('# no Dado')\n",
    "plt.ylabel('# de vezes que saiu')\n",
    "plt.subplot(132)\n",
    "plt.hist(x,bins=np.arange(0.5,7,1),density=True,rwidth=0.5,align='mid',facecolor='r', alpha=0.75)\n",
    "plt.xlabel('# no Dado')\n",
    "plt.ylabel('% de vezes que saiu')\n",
    "plt.show()\n"
   ]
  },
  {
   "cell_type": "code",
   "execution_count": null,
   "metadata": {},
   "outputs": [],
   "source": [
    "Njogadas = 10000\n",
    "x = np.random.randint(1,high=7, size=Njogadas)\n",
    "\n",
    "plt.figure(1, figsize=(30, 10))\n",
    "plt.subplot(131)\n",
    "plt.hist(x,bins=np.arange(0.5,7,1),density=False,rwidth=0.5,align='mid',facecolor='b', alpha=0.75)\n",
    "plt.xlabel('# no Dado')\n",
    "plt.ylabel('# de vezes que saiu')\n",
    "plt.subplot(132)\n",
    "plt.hist(x,bins=np.arange(0.5,7,1),density=True,rwidth=0.5,align='mid',facecolor='r', alpha=0.75)\n",
    "plt.xlabel('# no Dado')\n",
    "plt.ylabel('% de vezes que saiu')\n",
    "plt.show()"
   ]
  },
  {
   "cell_type": "markdown",
   "metadata": {},
   "source": [
    "# Caminho Aleatório"
   ]
  },
  {
   "cell_type": "code",
   "execution_count": null,
   "metadata": {},
   "outputs": [],
   "source": [
    "NuPassos, NuAmostra = 20, 30\n",
    "x=np.zeros(NuAmostra)\n",
    "for i in range(NuPassos):\n",
    "    passo = np.random.randint(-1,2,NuAmostra)\n",
    "    x+= passo\n",
    "    \n",
    "plt.figure(1, figsize=(30, 10))\n",
    "plt.subplot(131)\n",
    "plt.hist(x,bins=np.arange(-20.5,20.5,1),density=False,rwidth=0.5,align='mid',facecolor='b', alpha=0.75)\n",
    "plt.xlabel('# no Dado')\n",
    "plt.ylabel('# de vezes que saiu')\n",
    "plt.subplot(132)\n",
    "plt.hist(x,bins=np.arange(-20.5,20.5,1),density=True,rwidth=0.5,align='mid',facecolor='r', alpha=0.75)\n",
    "plt.xlabel('# no Dado')\n",
    "plt.ylabel('% de vezes que saiu')\n",
    "plt.show()"
   ]
  },
  {
   "cell_type": "code",
   "execution_count": null,
   "metadata": {},
   "outputs": [],
   "source": [
    "NuPassos, NuAmostra = 20, 3000\n",
    "x=np.zeros(NuAmostra)\n",
    "for i in range(NuPassos):\n",
    "    passo = np.random.randint(-1,2,NuAmostra)\n",
    "    x+= passo\n",
    "    \n",
    "plt.figure(1, figsize=(30, 10))\n",
    "plt.subplot(131)\n",
    "plt.hist(x,bins=np.arange(-20.5,20.5,1),density=False,rwidth=0.5,align='mid',facecolor='b', alpha=0.75)\n",
    "plt.xlabel('# no Dado')\n",
    "plt.ylabel('# de vezes que saiu')\n",
    "plt.subplot(132)\n",
    "plt.hist(x,bins=np.arange(-20.5,20.5,1),density=True,rwidth=0.5,align='mid',facecolor='r', alpha=0.75)\n",
    "plt.xlabel('# no Dado')\n",
    "plt.ylabel('% de vezes que saiu')\n",
    "plt.show()\n"
   ]
  },
  {
   "cell_type": "markdown",
   "metadata": {},
   "source": [
    "# Distribução de Maxwell Boltzmann"
   ]
  },
  {
   "cell_type": "code",
   "execution_count": null,
   "metadata": {},
   "outputs": [],
   "source": [
    "SqrtNuPart , EneIni, NuInt = 10 , 5 , 300000\n",
    "y = np.full((SqrtNuPart,SqrtNuPart),EneIni)\n",
    "for i in range(NuInt):\n",
    "    EleI= np.random.randint(0,SqrtNuPart,2)\n",
    "    EleJ= np.random.randint(0,SqrtNuPart,2)\n",
    "    if np.array_equal(EleI, EleJ) == False and y[EleI[0]][EleI[1]]!= 0:\n",
    "        y[EleI[0]][EleI[1]]-=1\n",
    "        y[EleJ[0]][EleJ[1]]+=1\n",
    "x = y.flatten()\n",
    "plt.figure(1, figsize=(30, 10))\n",
    "plt.subplot(131)\n",
    "plt.hist(x,bins=np.arange(0.5,20.5,1),density=False,rwidth=0.5,align='mid',facecolor='b', alpha=0.75)\n",
    "plt.xlabel(' Energia')\n",
    "plt.ylabel('# de vezes que saiu')\n",
    "plt.subplot(132)\n",
    "plt.hist(x,bins=np.arange(0.5,20.5,1),density=True,rwidth=0.5,align='mid',facecolor='r', alpha=0.75)\n",
    "plt.xlabel('# no Dado')\n",
    "plt.ylabel('% P(E)')\n",
    "plt.show()"
   ]
  },
  {
   "cell_type": "code",
   "execution_count": null,
   "metadata": {},
   "outputs": [],
   "source": [
    "SqrtNuPart , EneIni, NuInt = 100 , 50 , 30000000\n",
    "y = np.full((SqrtNuPart,SqrtNuPart),EneIni)\n",
    "for i in range(NuInt):\n",
    "    EleI= np.random.randint(0,SqrtNuPart,2)\n",
    "    EleJ= np.random.randint(0,SqrtNuPart,2)\n",
    "    if np.array_equal(EleI, EleJ) == False and y[EleI[0]][EleI[1]]!= 0:\n",
    "        y[EleI[0]][EleI[1]]-=1\n",
    "        y[EleJ[0]][EleJ[1]]+=1\n",
    "x = y.flatten()"
   ]
  },
  {
   "cell_type": "code",
   "execution_count": null,
   "metadata": {},
   "outputs": [],
   "source": [
    "plt.figure(1, figsize=(30, 10))\n",
    "plt.subplot(131)\n",
    "plt.hist(x,bins=np.arange(0.,100,1),density=False,rwidth=0.9,align='mid',facecolor='b', alpha=0.75)\n",
    "plt.xlabel(' Energia')\n",
    "plt.ylabel('# de vezes que saiu')\n",
    "plt.subplot(132)\n",
    "plt.hist(x,bins=np.arange(0.,100,1),density=False,rwidth=0.9,align='mid',facecolor='r', alpha=0.75)\n",
    "plt.xlabel('# no Dado')\n",
    "plt.ylabel('% P(E)')\n",
    "plt.show()"
   ]
  },
  {
   "cell_type": "code",
   "execution_count": null,
   "metadata": {},
   "outputs": [],
   "source": []
  }
 ],
 "metadata": {
  "kernelspec": {
   "display_name": "Python 3",
   "language": "python",
   "name": "python3"
  },
  "language_info": {
   "codemirror_mode": {
    "name": "ipython",
    "version": 3
   },
   "file_extension": ".py",
   "mimetype": "text/x-python",
   "name": "python",
   "nbconvert_exporter": "python",
   "pygments_lexer": "ipython3",
   "version": "3.6.3"
  }
 },
 "nbformat": 4,
 "nbformat_minor": 2
}
