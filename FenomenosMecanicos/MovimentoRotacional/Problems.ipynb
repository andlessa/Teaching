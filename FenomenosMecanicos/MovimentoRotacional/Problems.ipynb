{
 "cells": [
  {
   "cell_type": "code",
   "execution_count": 2,
   "metadata": {},
   "outputs": [],
   "source": [
    "import numpy as np\n",
    "import matplotlib.pyplot as plt\n",
    "import scipy\n",
    "import sympy as sp\n",
    "from sympy.vector import CoordSys3D\n",
    "from IPython.display import Video\n",
    "\n",
    "from matplotlib import animation, rc\n",
    "from IPython.display import HTML, display\n",
    "rc('animation', html='jshtml')\n",
    "import seaborn as sns\n",
    "C = CoordSys3D('')\n",
    "\n",
    "#Define plotting style:\n",
    "sns.set() #Set style\n",
    "sns.set_style('ticks',{'font.family':'serif', 'font.serif':'Times New Roman'})\n",
    "sns.set_context('poster', font_scale=0.8,  rc={\"lines.linewidth\": 5})"
   ]
  },
  {
   "cell_type": "markdown",
   "metadata": {},
   "source": [
    "## Problema (Rodas-Cinemática)"
   ]
  },
  {
   "cell_type": "markdown",
   "metadata": {},
   "source": [
    "<font size=3px>Uma roda A de raio $r_A = 10,0$ cm está acoplada por\n",
    "uma correia B a uma roda C de raio $r_c = 30$ cm. A velocidade angular da roda A é aumentada a\n",
    "partir do repouso a uma taxa constante de 2,0 rad/s$^2$. Encontre o tempo necessário para a roda\n",
    "C atingir uma velocidade angular de 100 rev/min, supondo que a correia não desliza.\n",
    "</font>"
   ]
  },
  {
   "cell_type": "code",
   "execution_count": 2,
   "metadata": {},
   "outputs": [],
   "source": [
    "#Definir variaveis/parametros:\n",
    "rA,rC,a,wf,t,dthetaA,dthetaC,dt,wC,wA = sp.symbols('r_A,r_C,alpha,omega_f,t,Δθ_A,Δθ_C,Δt,omega_c,omega_A',positive=True)\n",
    "subsList = [(rA,0.1),(rC,0.3),(a,2.0),(wf,100*2*sp.pi/60.)]"
   ]
  },
  {
   "cell_type": "code",
   "execution_count": 3,
   "metadata": {},
   "outputs": [
    {
     "data": {
      "text/latex": [
       "$\\displaystyle Δθ_{C} = \\frac{r_{A} Δθ_{A}}{r_{C}}$"
      ],
      "text/plain": [
       "Eq(Δθ_C, r_A*Δθ_A/r_C)"
      ]
     },
     "execution_count": 3,
     "metadata": {},
     "output_type": "execute_result"
    }
   ],
   "source": [
    "#Como a correia não desliza, o deslocamento da correia gerado pela variação\n",
    "#angular da roda A deve ser igual ao deslocamento gerado pela rotação da roda B:\n",
    "dlA = rA*dthetaA\n",
    "dlC = rC*dthetaC\n",
    "#Portanto:\n",
    "dtC = sp.solve(sp.Eq(dlA,dlC),dthetaC)[0]\n",
    "sp.Eq(dthetaC,dtC)"
   ]
  },
  {
   "cell_type": "code",
   "execution_count": 4,
   "metadata": {},
   "outputs": [
    {
     "data": {
      "text/latex": [
       "$\\displaystyle \\omega_{c} = \\frac{\\omega_{A} r_{A}}{r_{C}}$"
      ],
      "text/plain": [
       "Eq(omega_c, omega_A*r_A/r_C)"
      ]
     },
     "execution_count": 4,
     "metadata": {},
     "output_type": "execute_result"
    }
   ],
   "source": [
    "#Logo as velocidades angulares estão relacionadas por:\n",
    "sp.Eq(wC,(rA/rC)*wA)"
   ]
  },
  {
   "cell_type": "code",
   "execution_count": 5,
   "metadata": {},
   "outputs": [
    {
     "data": {
      "text/latex": [
       "$\\displaystyle \\frac{\\alpha r_{A} t}{r_{C}}$"
      ],
      "text/plain": [
       "alpha*r_A*t/r_C"
      ]
     },
     "execution_count": 5,
     "metadata": {},
     "output_type": "execute_result"
    }
   ],
   "source": [
    "#A velocidade angular da roda A é dada por:\n",
    "wA = lambda t: a*t\n",
    "\n",
    "#Logo a da roda C é:\n",
    "wCf = (rA/rC)*wA(t)\n",
    "wCf"
   ]
  },
  {
   "cell_type": "code",
   "execution_count": 6,
   "metadata": {},
   "outputs": [
    {
     "data": {
      "text/latex": [
       "$\\displaystyle \\frac{\\omega_{f} r_{C}}{\\alpha r_{A}}$"
      ],
      "text/plain": [
       "omega_f*r_C/(alpha*r_A)"
      ]
     },
     "metadata": {},
     "output_type": "display_data"
    },
    {
     "data": {
      "text/latex": [
       "$\\displaystyle 5.0 \\pi$"
      ],
      "text/plain": [
       "5.0*pi"
      ]
     },
     "execution_count": 6,
     "metadata": {},
     "output_type": "execute_result"
    }
   ],
   "source": [
    "#A roda C atingirá wf no instante:\n",
    "tsol = sp.solve(sp.Eq(wCf,wf),t)[0]\n",
    "resp = display(tsol)\n",
    "tsol.subs(subsList)"
   ]
  },
  {
   "cell_type": "markdown",
   "metadata": {},
   "source": [
    "## Problema (Energia Cinética)"
   ]
  },
  {
   "cell_type": "markdown",
   "metadata": {},
   "source": [
    "<font size=3px>\n",
    "Três partículas, cada qual de massa $m$, estão ligadas\n",
    "uma a outra e a um eixo de rotação por três fios leves cada um com um comprimento $l$, como\n",
    "mostra a figura. O sistema gira em torno do eixo de rotação com velocidade angular $\\omega$ constante de tal modo\n",
    "que as partículas permanecem em linha reta.<br>\n",
    "    a) Determine o módulo da velocidade de cada massa.<br>\n",
    "    b) Usando a resposta do item anterior, calcule a energia cinética do sistema.<br>\n",
    "    c) Calcule o momento de inércia do sistema.<br>\n",
    "    d) Usando a resposta do item anterior, calcule a energia cinética do sistema.<br>\n",
    "</font>\n",
    "<img src=\"Raquel-cinematicaFig1.jpg\" alt=\"Drawing\" style=\"width: 250px;\"/>"
   ]
  },
  {
   "cell_type": "code",
   "execution_count": 7,
   "metadata": {},
   "outputs": [],
   "source": [
    "#Definir variaveis/parametros:\n",
    "m,l,w,T = sp.symbols('m,l,omega,T',positive=True)"
   ]
  },
  {
   "cell_type": "code",
   "execution_count": 8,
   "metadata": {},
   "outputs": [
    {
     "data": {
      "text/latex": [
       "$\\displaystyle l \\omega$"
      ],
      "text/plain": [
       "l*omega"
      ]
     },
     "metadata": {},
     "output_type": "display_data"
    },
    {
     "data": {
      "text/latex": [
       "$\\displaystyle 2 l \\omega$"
      ],
      "text/plain": [
       "2*l*omega"
      ]
     },
     "metadata": {},
     "output_type": "display_data"
    },
    {
     "data": {
      "text/latex": [
       "$\\displaystyle 3 l \\omega$"
      ],
      "text/plain": [
       "3*l*omega"
      ]
     },
     "metadata": {},
     "output_type": "display_data"
    }
   ],
   "source": [
    "#item a)\n",
    "#A velocidade é dada por v = w*R, R = distância do eixo de rotação. Então:\n",
    "v1 = w*l\n",
    "v2 = w*(2*l)\n",
    "v3 = w*(3*l)\n",
    "resp = display(v1,v2,v3)"
   ]
  },
  {
   "cell_type": "code",
   "execution_count": 9,
   "metadata": {},
   "outputs": [
    {
     "data": {
      "text/latex": [
       "$\\displaystyle 7 l^{2} m \\omega^{2}$"
      ],
      "text/plain": [
       "7*l**2*m*omega**2"
      ]
     },
     "execution_count": 9,
     "metadata": {},
     "output_type": "execute_result"
    }
   ],
   "source": [
    "#item b)\n",
    "#A energia cinética é:\n",
    "K = m*v1**2/2+m*v2**2/2+m*v3**2/2\n",
    "K = sp.simplify(K)\n",
    "K"
   ]
  },
  {
   "cell_type": "code",
   "execution_count": 10,
   "metadata": {},
   "outputs": [
    {
     "data": {
      "text/latex": [
       "$\\displaystyle 14 l^{2} m$"
      ],
      "text/plain": [
       "14*l**2*m"
      ]
     },
     "execution_count": 10,
     "metadata": {},
     "output_type": "execute_result"
    }
   ],
   "source": [
    "#item c)\n",
    "#O momento de inércia é dado por I = m*R^2, R = distância do eixo de rotação. Então:\n",
    "I = m*l**2 + m*(2*l)**2 + m*(3*l)**2\n",
    "I"
   ]
  },
  {
   "cell_type": "code",
   "execution_count": 11,
   "metadata": {},
   "outputs": [
    {
     "data": {
      "text/latex": [
       "$\\displaystyle 7 l^{2} m \\omega^{2}$"
      ],
      "text/plain": [
       "7*l**2*m*omega**2"
      ]
     },
     "execution_count": 11,
     "metadata": {},
     "output_type": "execute_result"
    }
   ],
   "source": [
    "#item d)\n",
    "#A energia cinética é:\n",
    "Kp = I*w**2/2\n",
    "Kp = sp.simplify(Kp)\n",
    "Kp"
   ]
  },
  {
   "cell_type": "markdown",
   "metadata": {},
   "source": [
    "## Problema (Momento de Inércia)"
   ]
  },
  {
   "cell_type": "markdown",
   "metadata": {},
   "source": [
    "<font size=3px>\n",
    "Quatro esferas de massa $m$ estão conectadas em forma de cruz por hastes rígidas de massa desprezível, conforme mostra a figura. Calcule:<br>\n",
    "    a) A energia cinética de rotação se o sistema roda em torno de um eixo que passa pelo centro da cruz e é perpendicular ao plano da cruz com velocidade angular $\\omega$.<br>\n",
    "    b) A energia cinética de rotação se o sistema roda em torno de um eixo que passa por um dos braços da cruz  com velocidade angular $\\omega$.<br>\n",
    "    c) Qual das duas rotações é mais \"fácil\" de ser realizada?\n",
    "    <img src=\"momInercia4.png\" alt=\"Drawing\" style=\"width: 250px;\"/>\n",
    "</font>"
   ]
  },
  {
   "cell_type": "code",
   "execution_count": 12,
   "metadata": {},
   "outputs": [],
   "source": [
    "#Definir variaveis/parametros:\n",
    "l,w,m = sp.symbols('l,omega,m',positive=True)"
   ]
  },
  {
   "cell_type": "code",
   "execution_count": 13,
   "metadata": {},
   "outputs": [
    {
     "data": {
      "text/latex": [
       "$\\displaystyle \\frac{l^{2} m \\omega^{2}}{2}$"
      ],
      "text/plain": [
       "l**2*m*omega**2/2"
      ]
     },
     "execution_count": 13,
     "metadata": {},
     "output_type": "execute_result"
    }
   ],
   "source": [
    "#item a)\n",
    "#O momento de inérica neste caso é:\n",
    "I = 4*m*(l/2)**2\n",
    "#e a energia cinética é:\n",
    "K = I*w**2/2\n",
    "K"
   ]
  },
  {
   "cell_type": "code",
   "execution_count": 14,
   "metadata": {},
   "outputs": [
    {
     "data": {
      "text/latex": [
       "$\\displaystyle \\frac{l^{2} m \\omega^{2}}{4}$"
      ],
      "text/plain": [
       "l**2*m*omega**2/4"
      ]
     },
     "execution_count": 14,
     "metadata": {},
     "output_type": "execute_result"
    }
   ],
   "source": [
    "#item b)\n",
    "#O momento de inérica neste caso é:\n",
    "Ip = 2*m*(l/2)**2\n",
    "#e a energia cinética é:\n",
    "Kp = Ip*w**2/2\n",
    "Kp"
   ]
  },
  {
   "cell_type": "code",
   "execution_count": 15,
   "metadata": {},
   "outputs": [],
   "source": [
    "#item c)\n",
    "#O segundo caso exige menos energia, logo é mais fácil de ser realizado."
   ]
  },
  {
   "cell_type": "markdown",
   "metadata": {},
   "source": [
    "## Problema (Aceleração)"
   ]
  },
  {
   "cell_type": "markdown",
   "metadata": {},
   "source": [
    "<font size=3px>\n",
    "O braço de um atleta de arremesso de martelo tem $ l = 0,8$ m de comprimento e o martelo estende por mais $L = 1,2$ m. O atleta parte do repouso e roda o braço (esticado) por $\\Delta t = 5$ s até atingir uma velocidade final e lançar o martelo.\n",
    "Assuma que a aceleração angular do braço é constante e que logo antes de arremessar o martelo, o atleta demora $T = 0,75$ s para completar uma volta (1 revolução).\n",
    "Considere que o lançador está em repouso em t = 0 s e que o caminho que o braço faz é circular. \n",
    "Determine o módulo da aceleração angular imediatamente antes do lançamento do martelo e da aceleração linear total no momento que o martelo é liberado.\n",
    "</font>"
   ]
  },
  {
   "cell_type": "code",
   "execution_count": 16,
   "metadata": {},
   "outputs": [],
   "source": [
    "#Definir variaveis/parametros:\n",
    "l,L,T,dt,a = sp.symbols('l,L,T,Δt,alpha',positive=True)\n",
    "subsList = [(l,0.8),(L,1.2),(T,0.75),(dt,5.0)]"
   ]
  },
  {
   "cell_type": "code",
   "execution_count": 17,
   "metadata": {},
   "outputs": [
    {
     "data": {
      "text/latex": [
       "$\\displaystyle \\alpha = \\frac{2 \\pi}{T Δt}$"
      ],
      "text/plain": [
       "Eq(alpha, 2*pi/(T*Δt))"
      ]
     },
     "metadata": {},
     "output_type": "display_data"
    },
    {
     "data": {
      "text/latex": [
       "$\\displaystyle 1.68$"
      ],
      "text/plain": [
       "1.68"
      ]
     },
     "execution_count": 17,
     "metadata": {},
     "output_type": "execute_result"
    }
   ],
   "source": [
    "#A velocidade angular final é dada por:\n",
    "wf = 2*sp.pi/T\n",
    "#e a aceleração angular (constante) é:\n",
    "av = wf/dt\n",
    "resp = display(sp.Eq(a,wf/dt))\n",
    "av.subs(subsList).evalf(3)"
   ]
  },
  {
   "cell_type": "code",
   "execution_count": 18,
   "metadata": {},
   "outputs": [
    {
     "data": {
      "text/latex": [
       "$\\displaystyle \\frac{2 \\pi \\left(L + l\\right) \\sqrt{T^{2} + 4 \\pi^{2} Δt^{2}}}{T^{2} Δt}$"
      ],
      "text/plain": [
       "2*pi*(L + l)*sqrt(T**2 + 4*pi**2*Δt**2)/(T**2*Δt)"
      ]
     },
     "metadata": {},
     "output_type": "display_data"
    },
    {
     "data": {
      "text/latex": [
       "$\\displaystyle 140.41$"
      ],
      "text/plain": [
       "140.41"
      ]
     },
     "execution_count": 18,
     "metadata": {},
     "output_type": "execute_result"
    }
   ],
   "source": [
    "#A aceleração linear possui duas componentes ortogonais:\n",
    "at = av*(l+L)\n",
    "ac = (wf**2)*(l+L)\n",
    "#Logo o módulo é:\n",
    "aL = sp.simplify(sp.sqrt(at**2+ac**2))\n",
    "resp = display(aL)\n",
    "aL.subs(subsList).evalf(5)"
   ]
  },
  {
   "cell_type": "code",
   "execution_count": 19,
   "metadata": {},
   "outputs": [
    {
     "data": {
      "text/plain": [
       "140.40770134002224"
      ]
     },
     "execution_count": 19,
     "metadata": {},
     "output_type": "execute_result"
    }
   ],
   "source": [
    "2*np.sqrt((2*np.pi/(0.75*5))**2 + (2*np.pi/0.75)**4)"
   ]
  },
  {
   "cell_type": "markdown",
   "metadata": {},
   "source": [
    "## Problema (Torque-Ioio)"
   ]
  },
  {
   "cell_type": "markdown",
   "metadata": {},
   "source": [
    "<font size=3px>\n",
    "Um ioiô de raio interno $R$, massa $M$ e momento de inércia $I = M R^2/2$ rola\n",
    "em direção ao chão (ver figura). Assuma que a corda to ioiô não desliza e tem\n",
    "massa desprezível.<br>\n",
    "  a) Desenhe o diagrama de forças para o ioiô e escreva a\n",
    "  segunda lei de Newton para seu centro de massa.<br>\n",
    "  b) Mostre que a aceleração angular do ioiô satisfaz $\\alpha = a_{CM} /R$,\n",
    "  onde $a_{CM}$ é a aceleração do centro de massa.<br>\n",
    "  c) Dado que $R = 5$ cm, e $M = 0,2$ kg, calcule a aceleração angular do\n",
    "  ioiô.<br>\n",
    "    <img src=\"ioio.png\" alt=\"Drawing\" style=\"width: 150px;\"/>\n",
    "</font>"
   ]
  },
  {
   "cell_type": "code",
   "execution_count": 20,
   "metadata": {},
   "outputs": [],
   "source": [
    "#Definir variaveis/parametros:\n",
    "R,M,g,aCM,a,T,dy,dl,dtt,t = sp.symbols('R,M,g,a_{CM},alpha,T,Δy,Δl,Δtheta,t',positive=True)\n",
    "subsList = [(R,0.05),(M,0.2),(g,9.8)]"
   ]
  },
  {
   "cell_type": "code",
   "execution_count": 21,
   "metadata": {},
   "outputs": [
    {
     "data": {
      "text/latex": [
       "$\\displaystyle - g + \\frac{T}{M}$"
      ],
      "text/plain": [
       "-g + T/M"
      ]
     },
     "execution_count": 21,
     "metadata": {},
     "output_type": "execute_result"
    }
   ],
   "source": [
    "#item a)\n",
    "I = M*R**2/2\n",
    "#As forças externas são: tração do fio e peso. Então, adotando o eixo y positivo para cima:\n",
    "FR = (T-M*g)\n",
    "aCMsol = sp.solve(sp.Eq(FR,M*aCM),aCM)[0]\n",
    "aCMsol"
   ]
  },
  {
   "cell_type": "code",
   "execution_count": 22,
   "metadata": {},
   "outputs": [
    {
     "data": {
      "text/latex": [
       "$\\displaystyle \\frac{a_{CM}}{R}$"
      ],
      "text/plain": [
       "a_{CM}/R"
      ]
     },
     "execution_count": 22,
     "metadata": {},
     "output_type": "execute_result"
    }
   ],
   "source": [
    "#item b):\n",
    "#Quando o centro de massa desce de uma quantidade deltay (positiva), a corda desenrola:\n",
    "dl = dy\n",
    "#mas:\n",
    "dl = R*dtt\n",
    "#Então:\n",
    "dttsol = sp.solve(sp.Eq(R*dtt,dy),dtt)[0]\n",
    "dttsol\n",
    "#e aplicando a derivada temporal duas vezes, temos:\n",
    "a = aCM/R\n",
    "a"
   ]
  },
  {
   "cell_type": "code",
   "execution_count": 23,
   "metadata": {},
   "outputs": [
    {
     "data": {
      "text/latex": [
       "$\\displaystyle \\frac{2 g}{3 R}$"
      ],
      "text/plain": [
       "2*g/(3*R)"
      ]
     },
     "metadata": {},
     "output_type": "display_data"
    },
    {
     "data": {
      "text/latex": [
       "$\\displaystyle 131.0$"
      ],
      "text/plain": [
       "131."
      ]
     },
     "execution_count": 23,
     "metadata": {},
     "output_type": "execute_result"
    }
   ],
   "source": [
    "#item c\n",
    "#O torque somente é causado pela tração, sendo:\n",
    "tt = T*R\n",
    "#Mas:\n",
    "sol = sp.solve([sp.Eq(tt,I*a),sp.Eq(FR,-M*aCM)],(aCM,T))\n",
    "sol[aCM]\n",
    "#então\n",
    "a = sol[aCM]/R\n",
    "resp = display(a)\n",
    "a.subs(subsList).evalf(3)"
   ]
  },
  {
   "cell_type": "markdown",
   "metadata": {},
   "source": [
    "## Problema (Torque-haste)"
   ]
  },
  {
   "cell_type": "markdown",
   "metadata": {},
   "source": [
    "<font size=3px>\n",
    "Um pequeno objeto de massa $m$ é atado à extremidade livre de uma haste\n",
    "leve, de comprimento $r$. A haste pode girar num plano horizontal sem atrito,\n",
    "perpendicular a um eixo que passa pela sua extremidade fixa.<br>\n",
    "  a) Determine a aceleração angular $\\alpha$ do objeto, produzida por\n",
    "  uma força tangente à trajetória circular. O módulo da força é\n",
    "  igual ao peso do objeto.<br>\n",
    "  b) Suponha que o objeto parta do repouso. Encontre quanto tempo o objeto leva para dar uma volta completa e qual a sua velocidade angular após completar uma volta.\n",
    "Escreva suas respostas em termos $m$, $r$ e $g$.\n",
    "</font>"
   ]
  },
  {
   "cell_type": "code",
   "execution_count": 24,
   "metadata": {},
   "outputs": [],
   "source": [
    "#Definir variaveis/parametros:\n",
    "r,m,g,a,tt,w,t = sp.symbols('r,m,g,alpha,tau,omega,t',positive=True)"
   ]
  },
  {
   "cell_type": "code",
   "execution_count": 25,
   "metadata": {},
   "outputs": [
    {
     "data": {
      "text/latex": [
       "$\\displaystyle \\frac{g}{r}$"
      ],
      "text/plain": [
       "g/r"
      ]
     },
     "execution_count": 25,
     "metadata": {},
     "output_type": "execute_result"
    }
   ],
   "source": [
    "#item a)\n",
    "#O torque é dado por:\n",
    "tt = m*g*r\n",
    "#o momento de inércia é:\n",
    "I = m*r**2\n",
    "#Então a aceleração angular é:\n",
    "a = tt/I\n",
    "a"
   ]
  },
  {
   "cell_type": "code",
   "execution_count": 26,
   "metadata": {},
   "outputs": [
    {
     "data": {
      "text/latex": [
       "$\\displaystyle \\frac{g t}{r}$"
      ],
      "text/plain": [
       "g*t/r"
      ]
     },
     "metadata": {},
     "output_type": "display_data"
    },
    {
     "data": {
      "text/latex": [
       "$\\displaystyle \\frac{g t^{2}}{2 r}$"
      ],
      "text/plain": [
       "g*t**2/(2*r)"
      ]
     },
     "metadata": {},
     "output_type": "display_data"
    }
   ],
   "source": [
    "#item b)\n",
    "#Como a aceleração angular é constante:\n",
    "w0 = 0\n",
    "theta0 = 0\n",
    "w = lambda t: w0 + a*t\n",
    "theta = lambda t: theta0 + w0*t + a*t**2/2\n",
    "resp = display(w(t))\n",
    "rep = display(theta(t))"
   ]
  },
  {
   "cell_type": "code",
   "execution_count": 27,
   "metadata": {},
   "outputs": [
    {
     "data": {
      "text/latex": [
       "$\\displaystyle \\frac{2 \\sqrt{\\pi} \\sqrt{r}}{\\sqrt{g}}$"
      ],
      "text/plain": [
       "2*sqrt(pi)*sqrt(r)/sqrt(g)"
      ]
     },
     "execution_count": 27,
     "metadata": {},
     "output_type": "execute_result"
    }
   ],
   "source": [
    "#Para dar uma volta completa:\n",
    "tsol = sp.solve(sp.Eq(theta(t),2*sp.pi),t)[0]\n",
    "tsol"
   ]
  },
  {
   "cell_type": "code",
   "execution_count": 28,
   "metadata": {},
   "outputs": [
    {
     "data": {
      "text/latex": [
       "$\\displaystyle \\frac{2 \\sqrt{\\pi} \\sqrt{g}}{\\sqrt{r}}$"
      ],
      "text/plain": [
       "2*sqrt(pi)*sqrt(g)/sqrt(r)"
      ]
     },
     "execution_count": 28,
     "metadata": {},
     "output_type": "execute_result"
    }
   ],
   "source": [
    "#e nesse instante:\n",
    "w(t).subs(t,tsol)"
   ]
  },
  {
   "cell_type": "markdown",
   "metadata": {},
   "source": [
    "## Problema (Torque-Trabalho)"
   ]
  },
  {
   "cell_type": "markdown",
   "metadata": {},
   "source": [
    "<font size=3px>\n",
    "Um bloco de massa $m$ está pendurado verticalmente pela extremidade livre de\n",
    "uma corda. A corda está enrolada em torno de um cilindro de raio $r$ e momento\n",
    "de inércia $I$ em relação ao seu próprio eixo.\n",
    "Na outra extremidade da corda uma pessoa exerce uma força vertical,\n",
    "fazendo com que o bloco $m$ suba com velocidade constante $v$.\n",
    "Assumindo que não existam forças de atrito entre o eixo e o cilindro e que\n",
    "a corda não desliza sobre o cilindro, determine<br>\n",
    "a)  a velocidade angular e a aceleração angular do cilindro,<br>\n",
    "b) o torque gerado no cilindro pela ação da pessoa,<br>\n",
    "c) a energia que a pessoa gasta para levantar o bloco de uma altura $h$.<br>\n",
    "<img src=\"cilindroEixoC.png\" alt=\"Drawing\" style=\"width: 150px;\"/>\n",
    "</font>"
   ]
  },
  {
   "cell_type": "code",
   "execution_count": 29,
   "metadata": {},
   "outputs": [],
   "source": [
    "#Definir variaveis/parametros:\n",
    "r,I,m,v,g,w,t,dt,dtt,a,ttP,FT,h = sp.symbols('r,I,m,v,g,omega,t,Δt,Δθ,alpha,\\tau_P,F_P,h')"
   ]
  },
  {
   "cell_type": "code",
   "execution_count": 30,
   "metadata": {},
   "outputs": [
    {
     "data": {
      "text/latex": [
       "$\\displaystyle \\omega = \\frac{v}{r}$"
      ],
      "text/plain": [
       "Eq(omega, v/r)"
      ]
     },
     "metadata": {},
     "output_type": "display_data"
    },
    {
     "data": {
      "text/latex": [
       "$\\displaystyle \\alpha = 0$"
      ],
      "text/plain": [
       "Eq(alpha, 0)"
      ]
     },
     "metadata": {},
     "output_type": "display_data"
    }
   ],
   "source": [
    "#item a)\n",
    "#Como a velocidade do bloco é constante, em um intervalo delta t, ele sobe:\n",
    "dx = v*dt\n",
    "#Logo a corda irá subir da mesma quantidade e portanto o cilindro terá que girar de:\n",
    "dttsol = sp.solve(sp.Eq(dx,r*dtt),dtt)[0]\n",
    "dttsol\n",
    "#Dividindo por delta t, temos:\n",
    "resp = display(sp.Eq(w,dttsol/dt))\n",
    "#e como v=cte:\n",
    "resp = display(sp.Eq(a,0))\n"
   ]
  },
  {
   "cell_type": "code",
   "execution_count": 31,
   "metadata": {},
   "outputs": [
    {
     "data": {
      "text/latex": [
       "$\\displaystyle g m r$"
      ],
      "text/plain": [
       "g*m*r"
      ]
     },
     "execution_count": 31,
     "metadata": {},
     "output_type": "execute_result"
    }
   ],
   "source": [
    "#item b):\n",
    "#Como o cilindro deve ter aceleração angular nula, o torque resultante deve ser nulo:\n",
    "ttPsol = sp.solve(sp.Eq(ttP-m*g*r,0),ttP)[0]\n",
    "ttPsol"
   ]
  },
  {
   "cell_type": "code",
   "execution_count": 32,
   "metadata": {},
   "outputs": [
    {
     "data": {
      "text/latex": [
       "$\\displaystyle g m r Δθ$"
      ],
      "text/plain": [
       "g*m*r*Δθ"
      ]
     },
     "execution_count": 32,
     "metadata": {},
     "output_type": "execute_result"
    }
   ],
   "source": [
    "#item c):\n",
    "#Como o torque é constante, o trabalho realizado pela pessoa é:\n",
    "W = ttPsol*dtt\n",
    "W"
   ]
  },
  {
   "cell_type": "code",
   "execution_count": 33,
   "metadata": {},
   "outputs": [
    {
     "data": {
      "text/latex": [
       "$\\displaystyle \\frac{h}{r}$"
      ],
      "text/plain": [
       "h/r"
      ]
     },
     "execution_count": 33,
     "metadata": {},
     "output_type": "execute_result"
    }
   ],
   "source": [
    "#Para que o bloco suba uma distância h, o cilindro deve girar de:\n",
    "dttsol2 = sp.solve(sp.Eq(h,dtt*r),dtt)[0]\n",
    "dttsol2"
   ]
  },
  {
   "cell_type": "code",
   "execution_count": 34,
   "metadata": {},
   "outputs": [
    {
     "data": {
      "text/latex": [
       "$\\displaystyle g h m$"
      ],
      "text/plain": [
       "g*h*m"
      ]
     },
     "execution_count": 34,
     "metadata": {},
     "output_type": "execute_result"
    }
   ],
   "source": [
    "#Então:\n",
    "W = W.subs(dtt,dttsol2)\n",
    "W"
   ]
  },
  {
   "cell_type": "markdown",
   "metadata": {},
   "source": [
    "## Problema (Torque-Atwood)"
   ]
  },
  {
   "cell_type": "markdown",
   "metadata": {},
   "source": [
    "<font size=3px>\n",
    "A Figura abaixo mostra um bloco de massa $m_1 = 0,5$ kg e outro de\n",
    "massa $m_2 = 0,46$ kg. A roldana, em forma de disco possui raio $R = 5$ cm,\n",
    "momento de inércia $I$ e está montada em um eixo horizontal sem atrito. \n",
    "Quando o sistema é abandonado a partir do repouso o bloco $m_1$ cai 75 cm\n",
    "em 5 s com aceleração constante (sem que a corda deslize na borda da roldana).<br>\n",
    "a) Determine a aceleração dos blocos.<br>\n",
    "b) Qual é a tensão na corda que suporta o bloco $m_1$? E na que suporta o bloco $m_2$? (Mostre que as tensões são diferentes)<br>\n",
    "c) Determine a aceleração angular da roldana e seu momento de inércia $I$.\n",
    "<img src=\"atwoodMomentoInercia.png\" alt=\"Drawing\" style=\"width: 100px;\"/>    \n",
    "</font>"
   ]
  },
  {
   "cell_type": "code",
   "execution_count": 35,
   "metadata": {},
   "outputs": [],
   "source": [
    "#Definir variaveis/parametros:\n",
    "m1,m2,g,R,I,h1,t1,T1,T2 = sp.symbols('m_1,m_2,g,R,I,h_1,t_1,T_1,T_2')\n",
    "subsList = [(h1,0.75),(t1,5.),(m1,0.5),(m2,0.46),(g,9.8),(R,0.05)]"
   ]
  },
  {
   "cell_type": "code",
   "execution_count": 36,
   "metadata": {},
   "outputs": [
    {
     "data": {
      "text/latex": [
       "$\\displaystyle \\frac{2 h_{1}}{t_{1}^{2}}$"
      ],
      "text/plain": [
       "2*h_1/t_1**2"
      ]
     },
     "metadata": {},
     "output_type": "display_data"
    },
    {
     "data": {
      "text/latex": [
       "$\\displaystyle 0.06$"
      ],
      "text/plain": [
       "0.06000"
      ]
     },
     "execution_count": 36,
     "metadata": {},
     "output_type": "execute_result"
    }
   ],
   "source": [
    "#item a)\n",
    "#Como a velocidade dos blocos deve ser igual (em módulo),\n",
    "#sua aceleração também deve ser igual.\n",
    "#Como a aceleração do bloco 1 é constante:\n",
    "y1 = lambda t: a*t**2/2\n",
    "#Como o bloco cai h1 em t1 segundos:\n",
    "asol = sp.solve(sp.Eq(y1(t1),h1),a)[0]\n",
    "resp = display(asol)\n",
    "asol.subs(subsList).evalf(4)"
   ]
  },
  {
   "cell_type": "code",
   "execution_count": 37,
   "metadata": {},
   "outputs": [
    {
     "data": {
      "text/latex": [
       "$\\displaystyle g m_{1} - \\frac{2 h_{1} m_{1}}{t_{1}^{2}}$"
      ],
      "text/plain": [
       "g*m_1 - 2*h_1*m_1/t_1**2"
      ]
     },
     "metadata": {},
     "output_type": "display_data"
    },
    {
     "data": {
      "text/latex": [
       "$\\displaystyle 4.87$"
      ],
      "text/plain": [
       "4.87"
      ]
     },
     "execution_count": 37,
     "metadata": {},
     "output_type": "execute_result"
    }
   ],
   "source": [
    "#item b)\n",
    "#Analisando as forças para o bloco 1, temos:\n",
    "T1sol = sp.solve(sp.Eq(m1*g-T1,m1*asol),T1)[0]\n",
    "resp =display(T1sol)\n",
    "T1sol.subs(subsList).evalf(3)"
   ]
  },
  {
   "cell_type": "code",
   "execution_count": 38,
   "metadata": {},
   "outputs": [
    {
     "data": {
      "text/latex": [
       "$\\displaystyle g m_{2} + \\frac{2 h_{1} m_{2}}{t_{1}^{2}}$"
      ],
      "text/plain": [
       "g*m_2 + 2*h_1*m_2/t_1**2"
      ]
     },
     "metadata": {},
     "output_type": "display_data"
    },
    {
     "data": {
      "text/latex": [
       "$\\displaystyle 4.54$"
      ],
      "text/plain": [
       "4.54"
      ]
     },
     "execution_count": 38,
     "metadata": {},
     "output_type": "execute_result"
    }
   ],
   "source": [
    "#Analisando as forças para o bloco 1, temos:\n",
    "T2sol = sp.solve(sp.Eq(T2-m2*g,m2*asol),T2)[0]\n",
    "resp =display(T2sol)\n",
    "T2sol.subs(subsList).evalf(3)"
   ]
  },
  {
   "cell_type": "code",
   "execution_count": 39,
   "metadata": {},
   "outputs": [
    {
     "data": {
      "text/latex": [
       "$\\displaystyle \\frac{2 h_{1}}{R t_{1}^{2}}$"
      ],
      "text/plain": [
       "2*h_1/(R*t_1**2)"
      ]
     },
     "metadata": {},
     "output_type": "display_data"
    },
    {
     "data": {
      "text/latex": [
       "$\\displaystyle 1.2$"
      ],
      "text/plain": [
       "1.20"
      ]
     },
     "execution_count": 39,
     "metadata": {},
     "output_type": "execute_result"
    }
   ],
   "source": [
    "#item c)\n",
    "#Como a corda não desliza, a aceleração angular da roldana deve satisfazer:\n",
    "aR = asol/R\n",
    "#Então\n",
    "resp = display(aR)\n",
    "aR.subs(subsList).evalf(3)"
   ]
  },
  {
   "cell_type": "code",
   "execution_count": 40,
   "metadata": {},
   "outputs": [
    {
     "data": {
      "text/latex": [
       "$\\displaystyle \\frac{R^{2} \\left(g m_{1} t_{1}^{2} - g m_{2} t_{1}^{2} - 2 h_{1} \\left(m_{1} + m_{2}\\right)\\right)}{2 h_{1}}$"
      ],
      "text/plain": [
       "R**2*(g*m_1*t_1**2 - g*m_2*t_1**2 - 2*h_1*(m_1 + m_2))/(2*h_1)"
      ]
     },
     "metadata": {},
     "output_type": "display_data"
    },
    {
     "data": {
      "text/latex": [
       "$\\displaystyle 0.0139$"
      ],
      "text/plain": [
       "0.0139"
      ]
     },
     "execution_count": 40,
     "metadata": {},
     "output_type": "execute_result"
    }
   ],
   "source": [
    "#Os torques que atuam na roldana são gerados pela tração do fio:\n",
    "ttR = T1sol*R-T2sol*R\n",
    "#Então:\n",
    "Isol = sp.solve(sp.Eq(ttR,aR*I),I)[0]\n",
    "resp = display(Isol)\n",
    "Isol.subs(subsList).evalf(3)"
   ]
  },
  {
   "cell_type": "markdown",
   "metadata": {},
   "source": [
    "## Problema (MomentoAngular-Astronauta)"
   ]
  },
  {
   "cell_type": "markdown",
   "metadata": {},
   "source": [
    "<font size=3px>\n",
    " Um astronauta de massa $m = 100$ kg \n",
    "está em uma grande cápsula espacial esférica de massa $M =\n",
    "3000$ kg, raio $R = 40$ m e momento de inércia $2 M R^2/3$.\n",
    "O sistema está no espaço sideral e em repouso, quando um meteorito\n",
    "atinge a cápsula, que começa a rodar em torno de seu eixo com velocidade angular\n",
    "$\\omega = 2 \\times 10^{-4}$ rad/s. <br>\n",
    "    a) Com que velocidade (em módulo) o astronauta deve\n",
    "correr ao longo da linha do equador da superfície interna da cápsula para que a mesma pare\n",
    "de girar?<br> \n",
    "    b) A energia cinética é conservada neste caso? Justifique.\n",
    "</font>"
   ]
  },
  {
   "cell_type": "code",
   "execution_count": 17,
   "metadata": {},
   "outputs": [],
   "source": [
    "#Definir variaveis/parametros:\n",
    "m,M,R,w,va = sp.symbols('m,M,R,omega,v_a')\n",
    "subsList = [(m,100.0),(Ia,2.),(M,3000),(R,40),(w,2e-4)]"
   ]
  },
  {
   "cell_type": "code",
   "execution_count": 18,
   "metadata": {},
   "outputs": [
    {
     "data": {
      "text/latex": [
       "$\\displaystyle \\frac{R^{2} \\omega \\left(2 M + 3 m\\right)}{3}$"
      ],
      "text/plain": [
       "R**2*omega*(2*M + 3*m)/3"
      ]
     },
     "execution_count": 18,
     "metadata": {},
     "output_type": "execute_result"
    }
   ],
   "source": [
    "#Como só forças internas atuam no sistema, o momento angular total é conservado.\n",
    "#Antes do astronauta correr, temos:\n",
    "Ic = 2*M*R**2/3\n",
    "L0 = sp.simplify((m*R**2)*w + Ic*w)\n",
    "L0"
   ]
  },
  {
   "cell_type": "code",
   "execution_count": 19,
   "metadata": {},
   "outputs": [
    {
     "data": {
      "text/latex": [
       "$\\displaystyle R m v_{a}$"
      ],
      "text/plain": [
       "R*m*v_a"
      ]
     },
     "execution_count": 19,
     "metadata": {},
     "output_type": "execute_result"
    }
   ],
   "source": [
    "#Após o astronauta começar a correr, temos:\n",
    "wa = va/R\n",
    "Lf = Ic*0 + m*R**2*wa\n",
    "Lf"
   ]
  },
  {
   "cell_type": "code",
   "execution_count": 20,
   "metadata": {},
   "outputs": [
    {
     "data": {
      "text/latex": [
       "$\\displaystyle \\frac{R \\omega \\left(2 M + 3 m\\right)}{3 m}$"
      ],
      "text/plain": [
       "R*omega*(2*M + 3*m)/(3*m)"
      ]
     },
     "metadata": {},
     "output_type": "display_data"
    },
    {
     "data": {
      "text/latex": [
       "$\\displaystyle 0.168$"
      ],
      "text/plain": [
       "0.168"
      ]
     },
     "execution_count": 20,
     "metadata": {},
     "output_type": "execute_result"
    }
   ],
   "source": [
    "#Impondo conservação de momento:\n",
    "vsol = sp.solve(sp.Eq(L0,Lf),va)[0]\n",
    "resp = display(vsol)\n",
    "vsol.subs(subsList).evalf(3)"
   ]
  },
  {
   "cell_type": "code",
   "execution_count": 25,
   "metadata": {},
   "outputs": [
    {
     "data": {
      "text/latex": [
       "$\\displaystyle \\frac{M R^{2} \\omega^{2} \\left(2 M + 3 m\\right)}{9 m}$"
      ],
      "text/plain": [
       "M*R**2*omega**2*(2*M + 3*m)/(9*m)"
      ]
     },
     "metadata": {},
     "output_type": "display_data"
    },
    {
     "data": {
      "text/latex": [
       "$\\displaystyle 1.34$"
      ],
      "text/plain": [
       "1.34"
      ]
     },
     "execution_count": 25,
     "metadata": {},
     "output_type": "execute_result"
    }
   ],
   "source": [
    "#A energia cinética inicial é:\n",
    "K0 = (Ic+m*R**2)*w**2/2\n",
    "#Já a final é:\n",
    "Kf = m*R**2*(vsol/R)**2/2\n",
    "dK = sp.simplify(Kf-K0)\n",
    "resp = display(dK)\n",
    "dK.subs(subsList).evalf(3)\n",
    "#A energia cinética não é conservada, pois a força de atrito \n",
    "#que faz com que o astronauta se movimente não é conservativa"
   ]
  },
  {
   "cell_type": "markdown",
   "metadata": {},
   "source": [
    "## Problema (MomentoAngular-Colisao)"
   ]
  },
  {
   "cell_type": "markdown",
   "metadata": {},
   "source": [
    "<font size=3px>\n",
    "Uma sonda espacial cilíndrica (de raio $R$ e altura $h$) em repouso no espaço\n",
    "sideral é atingida tangencialmente por um meteorito que viaja com velocidade $v_0$. O meteorito \n",
    "se aloja na superfície da sonda após o impacto (ver figura).\n",
    "A massa do meteorito é $m$ e o momento de inércia da sonda em torno do eixo $z$\n",
    "é $I$.\n",
    "    <br>\n",
    "a) Qual o momento angular do meteorito imediatamente antes do impacto?<br>\n",
    "b) Qual a velocidade angular da sonda após a colisão?<br>\n",
    "c) Qual é a energia cinética total antes  da colisão? E a energia cinética\n",
    "  de rotação após a colisão? Qual energia é maior?<br>\n",
    "Expresse suas respostas em termos de $I$, $m$, $v_0$ e $R$ e considere o\n",
    "meteorito como um objeto pontual.<br>\n",
    "    \n",
    "<img src=\"sondaB.png\" alt=\"Drawing\" style=\"width: 400px;\"/>    \n",
    "</font>"
   ]
  },
  {
   "cell_type": "code",
   "execution_count": 32,
   "metadata": {},
   "outputs": [],
   "source": [
    "#Definir variaveis/parametros:\n",
    "R,h,v0,m,I,t,w = sp.symbols('R,h,v_0,m,I,t,omega')"
   ]
  },
  {
   "cell_type": "code",
   "execution_count": 30,
   "metadata": {},
   "outputs": [
    {
     "data": {
      "text/latex": [
       "$\\displaystyle (t v_{0})\\mathbf{\\hat{i}_{}} + (R)\\mathbf{\\hat{j}_{}}$"
      ],
      "text/plain": [
       "t*v_0*.i + R*.j"
      ]
     },
     "execution_count": 30,
     "metadata": {},
     "output_type": "execute_result"
    }
   ],
   "source": [
    "#item a)\n",
    "#Adotando o eixo de rotação como o eixo z, temos que a posiçao do meteorito em funçào do tempo é:\n",
    "rv = lambda t: v0*t*C.i+R*C.j\n",
    "v = lambda t: v0*C.i\n",
    "rv(t)"
   ]
  },
  {
   "cell_type": "code",
   "execution_count": 31,
   "metadata": {},
   "outputs": [
    {
     "data": {
      "text/latex": [
       "$\\displaystyle (- R m v_{0})\\mathbf{\\hat{k}_{}}$"
      ],
      "text/plain": [
       "(-R*m*v_0)*.k"
      ]
     },
     "execution_count": 31,
     "metadata": {},
     "output_type": "execute_result"
    }
   ],
   "source": [
    "#Logo seu momento angular será\n",
    "L0 = m*(rv(t).cross(v(t)))\n",
    "L0"
   ]
  },
  {
   "cell_type": "code",
   "execution_count": 35,
   "metadata": {},
   "outputs": [
    {
     "data": {
      "text/latex": [
       "$\\displaystyle (\\omega \\left(- I - R^{2} m\\right))\\mathbf{\\hat{k}_{}}$"
      ],
      "text/plain": [
       "(omega*(-I - R**2*m))*.k"
      ]
     },
     "execution_count": 35,
     "metadata": {},
     "output_type": "execute_result"
    }
   ],
   "source": [
    "#item b)\n",
    "#Como somente forças internas atuam no sistema, o momento angular total será conservado. Após a colisão:\n",
    "Lf = -(I + m*R**2)*w*C.k\n",
    "Lf"
   ]
  },
  {
   "cell_type": "code",
   "execution_count": 36,
   "metadata": {},
   "outputs": [
    {
     "data": {
      "text/latex": [
       "$\\displaystyle \\frac{R m v_{0}}{I + R^{2} m}$"
      ],
      "text/plain": [
       "R*m*v_0/(I + R**2*m)"
      ]
     },
     "execution_count": 36,
     "metadata": {},
     "output_type": "execute_result"
    }
   ],
   "source": [
    "#Impondo conservaçao de momento:\n",
    "wsol = sp.solve(sp.Eq(L0.dot(C.k),Lf.dot(C.k)),w)[0]\n",
    "wsol"
   ]
  },
  {
   "cell_type": "code",
   "execution_count": 37,
   "metadata": {},
   "outputs": [
    {
     "data": {
      "text/latex": [
       "$\\displaystyle \\frac{m v_{0}^{2}}{2}$"
      ],
      "text/plain": [
       "m*v_0**2/2"
      ]
     },
     "metadata": {},
     "output_type": "display_data"
    },
    {
     "data": {
      "text/latex": [
       "$\\displaystyle \\frac{R^{2} m^{2} v_{0}^{2}}{2 \\left(I + R^{2} m\\right)}$"
      ],
      "text/plain": [
       "R**2*m**2*v_0**2/(2*(I + R**2*m))"
      ]
     },
     "metadata": {},
     "output_type": "display_data"
    },
    {
     "data": {
      "text/latex": [
       "$\\displaystyle - \\frac{I m v_{0}^{2}}{2 I + 2 R^{2} m}$"
      ],
      "text/plain": [
       "-I*m*v_0**2/(2*I + 2*R**2*m)"
      ]
     },
     "execution_count": 37,
     "metadata": {},
     "output_type": "execute_result"
    }
   ],
   "source": [
    "#item c)\n",
    "#Antes da colisão:\n",
    "K0 = m*v0**2/2\n",
    "resp = display(K0)\n",
    "#Após a colisão:\n",
    "Kf = sp.simplify((I+m*R**2)*wsol**2/2)\n",
    "resp = display(Kf)\n",
    "dK = sp.simplify(Kf-K0)\n",
    "dK"
   ]
  },
  {
   "cell_type": "markdown",
   "metadata": {},
   "source": [
    "## Problema (MomentoAngular-Colisao2)"
   ]
  },
  {
   "cell_type": "markdown",
   "metadata": {},
   "source": [
    "<font size=3px>\n",
    "Uma plataforma horizontal circular de raio $r$ e momento de inércia $mr^2/2$,\n",
    "em relação a um eixo fixo perpendicular que passa pelo centro do círculo, \n",
    "    gira com velocidade angular $\\omega_0$. Um menino de massa $m/9$, que\n",
    "está inicialmente em repouso do lado de fora da plataforma, repentinamente\n",
    "pula para dentro da plataforma, caindo a uma distância $3r/4$ do centro do\n",
    "círculo. Considere o menino como uma partícula pontual e encontre a\n",
    "velocidade angular final $\\omega$ do sistema.\n",
    "</font>"
   ]
  },
  {
   "cell_type": "code",
   "execution_count": 38,
   "metadata": {},
   "outputs": [],
   "source": [
    "#Definir variaveis/parametros:\n",
    "r,m,w0,w = sp.symbols('r,m,omega_0,omega')"
   ]
  },
  {
   "cell_type": "code",
   "execution_count": 40,
   "metadata": {},
   "outputs": [
    {
     "data": {
      "text/latex": [
       "$\\displaystyle \\frac{m \\omega_{0} r^{2}}{2}$"
      ],
      "text/plain": [
       "m*omega_0*r**2/2"
      ]
     },
     "execution_count": 40,
     "metadata": {},
     "output_type": "execute_result"
    }
   ],
   "source": [
    "#Como as forças externas se cancelam (peso do menino, peso da plataforma, normal na plataforma,...)\n",
    "#o torque externo é nulo. Então o momento angular é conservado.\n",
    "#Antes do salto:\n",
    "I = m*r**2/2\n",
    "L0 = I*w0\n",
    "L0"
   ]
  },
  {
   "cell_type": "code",
   "execution_count": 41,
   "metadata": {},
   "outputs": [
    {
     "data": {
      "text/latex": [
       "$\\displaystyle \\frac{9 m \\omega r^{2}}{16}$"
      ],
      "text/plain": [
       "9*m*omega*r**2/16"
      ]
     },
     "execution_count": 41,
     "metadata": {},
     "output_type": "execute_result"
    }
   ],
   "source": [
    "#Após o salto:\n",
    "Lf = (I+(m/9)*(3*r/4)**2)*w\n",
    "Lf"
   ]
  },
  {
   "cell_type": "code",
   "execution_count": 43,
   "metadata": {},
   "outputs": [
    {
     "data": {
      "text/latex": [
       "$\\displaystyle \\frac{8 \\omega_{0}}{9}$"
      ],
      "text/plain": [
       "8*omega_0/9"
      ]
     },
     "execution_count": 43,
     "metadata": {},
     "output_type": "execute_result"
    }
   ],
   "source": [
    "#Impondo conservaçao de momento:\n",
    "wsol = sp.solve(sp.Eq(L0,Lf),w)[0]\n",
    "wsol"
   ]
  },
  {
   "cell_type": "markdown",
   "metadata": {},
   "source": [
    "## Problema (MomentoAngular-Estacao)"
   ]
  },
  {
   "cell_type": "markdown",
   "metadata": {},
   "source": [
    "<font size=3px>\n",
    "Imagine uma estação espacial orbital hipotética, esquematizada na figura, que procura simular a\n",
    "aceleração da gravidade dentro dos habitáculos $h_1$ e $h_2$ impondo uma\n",
    "aceleração centrípeta devido ao movimento circular uniforme que tem como eixo de rotação \n",
    "a reta perpendicular à distância entre os habitáculos e centrada no ponto médio\n",
    "entre eles. Considere que as massas dos habitáculos são iguais a $M$, que a\n",
    "distância entre eles é $l$ e que a massa da haste que os une é desprezível.<br>\n",
    "a) Calcule o momento de inércia do conjunto, tendo como eixo de rotação\n",
    "  o eixo que passa pelo ponto médio entre $h_1$ e $h_2$.<br>\n",
    "b) Determine o momento angular desta estação considerando que a aceleração\n",
    "  centrípeta sentida nos habitáculos seja igual à aceleração da gravidade na\n",
    "  superfície terrestre, $g$.  \n",
    "<img src=\"hibernaculos.png\" alt=\"Drawing\" style=\"width: 300px;\"/>    \n",
    "</font>"
   ]
  },
  {
   "cell_type": "code",
   "execution_count": 51,
   "metadata": {},
   "outputs": [],
   "source": [
    "#Definir variaveis/parametros:\n",
    "l,M,w,g = sp.symbols('l,M,omega,g',positive=True)"
   ]
  },
  {
   "cell_type": "code",
   "execution_count": 52,
   "metadata": {},
   "outputs": [
    {
     "data": {
      "text/latex": [
       "$\\displaystyle \\frac{M l^{2}}{2}$"
      ],
      "text/plain": [
       "M*l**2/2"
      ]
     },
     "execution_count": 52,
     "metadata": {},
     "output_type": "execute_result"
    }
   ],
   "source": [
    "#item a)\n",
    "#O momento de inércia é:\n",
    "I = M*(l/2)**2 +M*(l/2)**2\n",
    "I"
   ]
  },
  {
   "cell_type": "code",
   "execution_count": 53,
   "metadata": {},
   "outputs": [
    {
     "data": {
      "text/latex": [
       "$\\displaystyle \\frac{\\sqrt{2} \\sqrt{g}}{\\sqrt{l}}$"
      ],
      "text/plain": [
       "sqrt(2)*sqrt(g)/sqrt(l)"
      ]
     },
     "execution_count": 53,
     "metadata": {},
     "output_type": "execute_result"
    }
   ],
   "source": [
    "#item b)\n",
    "#A aceleração centrípeta é dada por:\n",
    "R=l/2\n",
    "ac = R*w**2\n",
    "#Impondo que esta seja igual à aceleração g:\n",
    "wsol = sp.solve(sp.Eq(ac,g),w)[0]\n",
    "wsol"
   ]
  },
  {
   "cell_type": "code",
   "execution_count": 54,
   "metadata": {},
   "outputs": [
    {
     "data": {
      "text/latex": [
       "$\\displaystyle \\frac{\\sqrt{2} M \\sqrt{g} l^{\\frac{3}{2}}}{2}$"
      ],
      "text/plain": [
       "sqrt(2)*M*sqrt(g)*l**(3/2)/2"
      ]
     },
     "execution_count": 54,
     "metadata": {},
     "output_type": "execute_result"
    }
   ],
   "source": [
    "#Logo o momento angular será:\n",
    "L = sp.simplify(I*wsol)\n",
    "L"
   ]
  },
  {
   "cell_type": "code",
   "execution_count": null,
   "metadata": {},
   "outputs": [],
   "source": []
  }
 ],
 "metadata": {
  "kernelspec": {
   "display_name": "Python 3",
   "language": "python",
   "name": "python3"
  },
  "language_info": {
   "codemirror_mode": {
    "name": "ipython",
    "version": 3
   },
   "file_extension": ".py",
   "mimetype": "text/x-python",
   "name": "python",
   "nbconvert_exporter": "python",
   "pygments_lexer": "ipython3",
   "version": "3.8.10"
  }
 },
 "nbformat": 4,
 "nbformat_minor": 2
}
