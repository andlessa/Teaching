{
 "cells": [
  {
   "cell_type": "code",
   "execution_count": null,
   "metadata": {},
   "outputs": [],
   "source": [
    "%matplotlib inline"
   ]
  },
  {
   "cell_type": "code",
   "execution_count": null,
   "metadata": {},
   "outputs": [],
   "source": [
    "import numpy as np\n",
    "import matplotlib.pyplot as plt\n",
    "import scipy\n",
    "\n",
    "from matplotlib import animation, rc\n",
    "from IPython.display import HTML\n",
    "rc('animation', html='jshtml')\n",
    "import seaborn as sns\n",
    "\n",
    "#Define plotting style:\n",
    "sns.set() #Set style\n",
    "sns.set_style('ticks',{'font.family':'serif', 'font.serif':'Times New Roman'})\n",
    "sns.set_context('paper', font_scale=1.5)"
   ]
  },
  {
   "cell_type": "markdown",
   "metadata": {},
   "source": [
    "### Show 1D movement:"
   ]
  },
  {
   "cell_type": "code",
   "execution_count": null,
   "metadata": {},
   "outputs": [],
   "source": [
    "tmin = 0.\n",
    "tmax = 10.\n",
    "\n",
    "xF = lambda t: t**2 - 0.1*t**3\n",
    "fig = plt.figure(figsize=(10,7))\n",
    "tpts = np.linspace(tmin,tmax,100)\n",
    "line1 = plt.plot(tpts,xF(tpts),linewidth=4)\n",
    "plt.ylim(0.,15)\n",
    "plt.xlim(0.,12)\n",
    "pt, = plt.plot([0.],[xF(0)],'o',linewidth=2,markersize=25)\n",
    "plt.title('Movimento 1D')\n",
    "xlabel = plt.xlabel('t (s)')\n",
    "ylabel = plt.ylabel('x (m)')\n",
    "def init():\n",
    "    pt.set_data([0.], [xF(0)])\n",
    "    return (pt,)\n",
    "def animate(i):\n",
    "    t = float(i)/10.\n",
    "    pt.set_data([0],[xF(t)])\n",
    "    return (pt,)\n",
    "anim = animation.FuncAnimation(fig, animate, init_func=init,\n",
    "                               frames=100, interval=100, \n",
    "                               blit=True)\n",
    "plt.close()\n",
    "anim"
   ]
  },
  {
   "cell_type": "markdown",
   "metadata": {},
   "source": [
    "### Compute instantaneous velocity"
   ]
  },
  {
   "cell_type": "code",
   "execution_count": null,
   "metadata": {},
   "outputs": [],
   "source": [
    "fig = plt.figure(figsize=(10,7))\n",
    "frames, interval = 50,500\n",
    "t1 = 4.\n",
    "v1 = scipy.misc.derivative(xF,t1,dx=1e-6)\n",
    "dt0 = 4.\n",
    "line1 = plt.plot(tpts,xF(tpts),linewidth=4)\n",
    "tA, tB = max(tmin,t1-dt0), min(tmax,t1+dt0)\n",
    "xA, xB = xF(tA), xF(tB)\n",
    "line2, = plt.plot([tA,tB],[xA,xB],'--',linewidth=2,markersize=15)\n",
    "pts, = plt.plot([tA,tB],[xA,xB],'o',linewidth=2,markersize=15)\n",
    "xM, = plt.plot([t1],[xF(t1)],'X',markersize=15)\n",
    "xlabel = plt.xlabel('t (s)')\n",
    "ylabel = plt.ylabel('x (m)')\n",
    "text = plt.text(1, 13, r'$v=%1.2f$ m/s, $v_{m} = 15$ m/s' %v1)\n",
    "plt.title('Velocidade Instantânea')\n",
    "def init():\n",
    "    line2.set_data([], [])\n",
    "    pts.set_data([], [])\n",
    "    text.set_text(r'$v=%1.2f$ m/s' %v1)\n",
    "    return (line2,pts,text)\n",
    "def animate(i):\n",
    "    dt = dt0/float(max(i,1))\n",
    "    tA, tB = max(tmin,t1-dt), min(tmax,t1+dt)\n",
    "    xA, xB = xF(tA), xF(tB)\n",
    "    line2.set_data([tA,tB,tB,tA],[xA,xA,xB,xA])\n",
    "    pts.set_data([tA,tB],[xA,xB])\n",
    "    vm = (xB-xA)/(tB-tA)\n",
    "    text.set_text(r'$v=%1.2f$ m/s, $v_{m} = %1.2f$ m/s' %(v1,vm))\n",
    "    return (line2,pts,text)\n",
    "anim = animation.FuncAnimation(fig, animate, init_func=init,\n",
    "                               frames=frames, interval=interval, \n",
    "                               blit=True)\n",
    "plt.close()\n",
    "anim"
   ]
  },
  {
   "cell_type": "code",
   "execution_count": null,
   "metadata": {},
   "outputs": [],
   "source": []
  }
 ],
 "metadata": {
  "kernelspec": {
   "display_name": "Python 3",
   "language": "python",
   "name": "python3"
  },
  "language_info": {
   "codemirror_mode": {
    "name": "ipython",
    "version": 3
   },
   "file_extension": ".py",
   "mimetype": "text/x-python",
   "name": "python",
   "nbconvert_exporter": "python",
   "pygments_lexer": "ipython3",
   "version": "3.7.3"
  }
 },
 "nbformat": 4,
 "nbformat_minor": 2
}
