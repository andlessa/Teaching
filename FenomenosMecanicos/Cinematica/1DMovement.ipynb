{
 "cells": [
  {
   "cell_type": "code",
   "execution_count": null,
   "metadata": {},
   "outputs": [],
   "source": [
    "%matplotlib inline"
   ]
  },
  {
   "cell_type": "code",
   "execution_count": null,
   "metadata": {},
   "outputs": [],
   "source": [
    "import numpy as np\n",
    "import matplotlib.pyplot as plt\n",
    "import scipy\n",
    "\n",
    "from matplotlib import animation, rc\n",
    "from IPython.display import HTML\n",
    "rc('animation', html='jshtml')\n",
    "import seaborn as sns\n",
    "\n",
    "#Define plotting style:\n",
    "sns.set() #Set style\n",
    "sns.set_style('ticks',{'font.family':'serif', 'font.serif':'Times New Roman'})\n",
    "sns.set_context('paper', font_scale=2.2)"
   ]
  },
  {
   "cell_type": "markdown",
   "metadata": {},
   "source": [
    "### Constant velocity:"
   ]
  },
  {
   "cell_type": "code",
   "execution_count": null,
   "metadata": {},
   "outputs": [],
   "source": [
    "vF = lambda t: 2.*(1.+t)/(1.+t)\n",
    "tmin = 0.\n",
    "tmax = 10.\n",
    "tpts = np.linspace(tmin,tmax,100)\n",
    "\n",
    "fig = plt.figure(figsize=(20,7))\n",
    "ax1 = plt.subplot(121)\n",
    "ax1.plot(tpts,vF(tpts),linewidth=4)\n",
    "ax1.plot([tmin,tmax],[0.,0.],'--',linewidth=1.5,color='black')\n",
    "xlabel = ax1.set_xlabel('t (s)')\n",
    "ylabel = ax1.set_ylabel('v (m/s)')\n",
    "ax2 = plt.subplot(122)\n",
    "xlabel = ax2.set_xlabel('t (s)')\n",
    "ylabel = ax2.set_ylabel('x (m)')\n",
    "ax2.set_xlim(tmin,tmax)\n",
    "ax2.set_ylim(0.,vF(tmax)*tmax)\n",
    "dt = 1.0\n",
    "tA = 0.\n",
    "tB = tA + dt\n",
    "vA, vB = vF(tA), vF(tB)\n",
    "tlist = [tA,tB]\n",
    "vm = vF(tA)\n",
    "line2, = ax1.fill([tA,tA,tB,tB],[0.,vm,vm,0.],'--',linewidth=2,alpha=0.4)\n",
    "pts, = ax1.plot([tA,tB],[vA,vB],'o',markersize=10)\n",
    "xpts = [0.]\n",
    "xpts.append(xpts[-1]+vm*dt)\n",
    "pts2, = ax2.plot(tlist,xpts,'o--',markersize=10,linewidth=2,color=pts.get_color())\n",
    "\n",
    "def init():\n",
    "    line2.set_xy([(0.,0.)])\n",
    "    pts.set_data([], [])\n",
    "    pts2.set_data([],[])\n",
    "    return (line2,pts,pts2)\n",
    "def animate(i):\n",
    "    tlist = np.linspace(tmin,tmin+dt*(i+1),i+2,endpoint=True)\n",
    "    vlist = vF(tlist)\n",
    "    pts.set_data(tlist,vlist)\n",
    "    tA, tB = tlist[-2],tlist[-1]\n",
    "    vm = vF(tB)\n",
    "    line2.set_xy([(tA,0.),(tA,vm),(tB,vm),(tB,0.)])\n",
    "    xlist = [0.]\n",
    "    for v in vlist[:-1]:\n",
    "        xlist.append(xlist[-1]+v*dt)\n",
    "    pts2.set_data(tlist,xlist)    \n",
    "    return (line2,pts,pts2)\n",
    "\n",
    "anim = animation.FuncAnimation(fig, animate, init_func=init,\n",
    "                               frames=int((tmax-tmin)/dt), interval=600, \n",
    "                               blit=True)\n",
    "plt.close()\n",
    "anim"
   ]
  },
  {
   "cell_type": "markdown",
   "metadata": {},
   "source": [
    "### Constant acceleration"
   ]
  },
  {
   "cell_type": "code",
   "execution_count": null,
   "metadata": {},
   "outputs": [],
   "source": [
    "a = 2.\n",
    "vF = lambda t: a*t\n",
    "tmin = 0.\n",
    "tmax = 10.\n",
    "tpts = np.linspace(tmin,tmax,100)\n",
    "\n",
    "fig = plt.figure(figsize=(20,7))\n",
    "ax1 = plt.subplot(121)\n",
    "ax1.plot(tpts,vF(tpts),linewidth=4)\n",
    "ax1.plot([tmin,tmax],[0.,0.],'--',linewidth=1.5,color='black')\n",
    "xlabel = ax1.set_xlabel('t (s)')\n",
    "ylabel = ax1.set_ylabel('v (m/s)')\n",
    "ax2 = plt.subplot(122)\n",
    "xlabel = ax2.set_xlabel('t (s)')\n",
    "ylabel = ax2.set_ylabel('x (m)')\n",
    "ax2.set_xlim(tmin,tmax)\n",
    "ax2.set_ylim(0.,(a*tmax**2)/2.)\n",
    "dt = 1.0\n",
    "tA = 0.\n",
    "tB = tA + dt\n",
    "vA, vB = vF(tA), vF(tB)\n",
    "tlist = [tA,tB]\n",
    "vm = vF(tA)\n",
    "line2, = ax1.fill([tA,tA,tB,tB],[0.,vm,vm,0.],'--',linewidth=2,alpha=0.4)\n",
    "pts, = ax1.plot([tA,tB],[vA,vB],'o',markersize=10)\n",
    "xpts = [0.]\n",
    "xpts.append(xpts[-1]+vm*dt)\n",
    "pts2, = ax2.plot(tlist,xpts,'o--',markersize=10,linewidth=2,color=pts.get_color())\n",
    "\n",
    "def init():\n",
    "    line2.set_xy([(0.,0.)])\n",
    "    pts.set_data([], [])\n",
    "    pts2.set_data([],[])\n",
    "    return (line2,pts,pts2)\n",
    "def animate(i):\n",
    "    tlist = np.linspace(tmin,tmin+dt*(i+1),i+2,endpoint=True)\n",
    "    vlist = vF(tlist)\n",
    "    pts.set_data(tlist,vlist)\n",
    "    tA, tB = tlist[-2],tlist[-1]\n",
    "    vm = vF(tB)\n",
    "    line2.set_xy([(tA,0.),(tA,vm),(tB,vm),(tB,0.)])\n",
    "    xlist = [0.]\n",
    "    for v in vlist[:-1]:\n",
    "        xlist.append(xlist[-1]+v*dt)\n",
    "    pts2.set_data(tlist,xlist)    \n",
    "    return (line2,pts,pts2)\n",
    "\n",
    "anim = animation.FuncAnimation(fig, animate, init_func=init,\n",
    "                               frames=int((tmax-tmin)/dt), interval=600, \n",
    "                               blit=True)\n",
    "plt.close()\n",
    "anim"
   ]
  }
 ],
 "metadata": {
  "kernelspec": {
   "display_name": "Python 3",
   "language": "python",
   "name": "python3"
  },
  "language_info": {
   "codemirror_mode": {
    "name": "ipython",
    "version": 3
   },
   "file_extension": ".py",
   "mimetype": "text/x-python",
   "name": "python",
   "nbconvert_exporter": "python",
   "pygments_lexer": "ipython3",
   "version": "3.6.3"
  }
 },
 "nbformat": 4,
 "nbformat_minor": 2
}
