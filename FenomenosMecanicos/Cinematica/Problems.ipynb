{
 "cells": [
  {
   "cell_type": "code",
   "execution_count": null,
   "metadata": {},
   "outputs": [],
   "source": [
    "import numpy as np\n",
    "import matplotlib.pyplot as plt\n",
    "import scipy\n",
    "\n",
    "from matplotlib import animation, rc\n",
    "from IPython.display import HTML\n",
    "rc('animation', html='jshtml')\n",
    "import seaborn as sns\n",
    "\n",
    "#Define plotting style:\n",
    "sns.set() #Set style\n",
    "sns.set_style('ticks',{'font.family':'serif', 'font.serif':'Times New Roman'})\n",
    "sns.set_context('paper', font_scale=2.2)"
   ]
  },
  {
   "cell_type": "markdown",
   "metadata": {},
   "source": [
    "## Problema 1"
   ]
  },
  {
   "cell_type": "markdown",
   "metadata": {},
   "source": [
    "<font size=3px>Um motorista dirigindo com uma velocidade constante de 45,0 m/s passa sem perceber por um bloqueio da polícia.<br>\n",
    "Um segundo após a passagem do carro, a polícia sai em perseguição a ele,com uma aceleração constante de 3,00 m/s$^2$. <br>\n",
    "Depois de quanto tempo o policial alcança o carro perseguido?</font>"
   ]
  },
  {
   "cell_type": "code",
   "execution_count": null,
   "metadata": {},
   "outputs": [],
   "source": [
    "fig = plt.figure()\n",
    "tC0, xC0, vC0, aC = 0.,0.,45., 0.\n",
    "xC = lambda t: xC0 + vC0*(t-tC0)  + aC*t**2/2\n",
    "\n",
    "tP0,xP0,vP0,aP = 1.,0.,0.,3.\n",
    "xP = lambda t: xP0 + vP0*(t-tP0) + aP*(t-tP0)**2/2 if t >1. else 0.\n",
    "\n",
    "\n",
    "tpts = np.linspace(0.,50.,100)\n",
    "xPpts = [xP(t) for t in tpts]\n",
    "plt.plot(tpts,xC(tpts),linewidth=3)\n",
    "plt.plot(tpts,xPpts,linewidth=3)\n",
    "plt.xlabel(r't (s)')\n",
    "plt.ylabel(r'x (m)')\n",
    "leg = plt.legend([r'$x_{carro}$',r'$x_{policia}$'])"
   ]
  },
  {
   "cell_type": "markdown",
   "metadata": {},
   "source": [
    "## Problema 2"
   ]
  },
  {
   "cell_type": "markdown",
   "metadata": {},
   "source": [
    "<font size=3px>Um projétil é atirado em direção a um plano inclinado como mostra figura abaixo. A velocidade inicial tem módulo $v_i$ e faz um ângulo $\\theta_i$ com a horizontal. O plano possui inclinação\n",
    "$\\phi$ e a aceleração da gravidade tem módulo $g$. Mostre que o projétil percorre uma distância $d$\n",
    "ao longo do plano inclinado dada por:<br><br>\n",
    "$$\n",
    "d = \\frac{2 v_i^2 \\cos \\theta_i \\sin (\\theta_i -\\phi)}{g \\cos^2 \\phi}\n",
    "$$\n",
    "</font>\n",
    "<img src=\"FS_01.png\" alt=\"Drawing\" style=\"width: 400px;\"/>"
   ]
  },
  {
   "cell_type": "code",
   "execution_count": null,
   "metadata": {},
   "outputs": [],
   "source": [
    "fig = plt.figure(figsize=(22,7))\n",
    "thetai = 30.*np.pi/180.\n",
    "vi = 10.\n",
    "v0x = vi*np.cos(thetai)\n",
    "v0y = vi*np.sin(thetai)\n",
    "t0,x0,y0 = 0.,0.,0.\n",
    "g = 9.8\n",
    "xF = lambda t: x0 + v0x*(t-t0)\n",
    "yF = lambda t: y0 + v0y*(t-t0) - g*((t-t0)**2)/2.\n",
    "\n",
    "phi = 20.*np.pi/180.\n",
    "lF = lambda x: x*np.tan(phi)\n",
    "\n",
    "d = (2*vi**2*np.cos(thetai)*np.sin(thetai-phi)/(g*(np.cos(phi)**2)))\n",
    "xd = d*np.cos(phi)\n",
    "yd = d*np.sin(phi)\n",
    "\n",
    "tpts = np.linspace(0.,0.7,100)\n",
    "ax1 = plt.subplot(131)\n",
    "ax1.plot(xF(tpts),yF(tpts),linewidth=3)\n",
    "ax1.fill([xF(tpts).min(),xF(tpts).max(),xF(tpts).max()],\n",
    "         [lF(xF(tpts).min()),lF(xF(tpts).min()),lF(xF(tpts).max())],zorder=10,alpha=0.4,c='orange')\n",
    "ax1.plot(xd,yd,'o',markersize=10)\n",
    "ax1.set_xlabel(r'x (m)')\n",
    "ax1.set_ylabel(r'y (m)')\n",
    "ax2 = plt.subplot(132)\n",
    "ax2.plot(tpts,xF(tpts),linewidth=3)\n",
    "ax2.set_xlabel(r't (s)')\n",
    "ax2.set_ylabel(r'x (m)')\n",
    "ax3 = plt.subplot(133)\n",
    "ax3.plot(tpts,yF(tpts),linewidth=3)\n",
    "ax3.set_xlabel(r't (s)')\n",
    "ax3.set_ylabel(r'y (m)')\n",
    "print('Resposta= %.2f m' %d)"
   ]
  },
  {
   "cell_type": "markdown",
   "metadata": {},
   "source": [
    "### Problema 3"
   ]
  },
  {
   "cell_type": "markdown",
   "metadata": {},
   "source": [
    "<font size=3px>\n",
    "Uma bola é arremessada com velocidade inicial $v_i = 30,0$ m/s com um ângulo de $45^{\\circ}$ com relação à horizontal. \n",
    "A bola está a 1,2 m acima do solo no momento do arremesso e existe um muro de 10 m de altura à uma distância de 80 m do arremessador.\n",
    "<br> a) Determine o vetor velocidade inicial ($\\vec{v}_i$)\n",
    "<br> b) Determine o alcance horizontal da bola.\n",
    "<br> c) A bola consegue passar por cima do muro?\n",
    "<br> d) Assumindo que o ângulo de arremesso não se altera, qual a velocidade mínima para que a bola caia do outro lado do muro?\n",
    "</font>"
   ]
  },
  {
   "cell_type": "code",
   "execution_count": null,
   "metadata": {},
   "outputs": [],
   "source": [
    "fig = plt.figure(figsize=(22,7))\n",
    "thetai = 45.*np.pi/180.\n",
    "vi = 30.\n",
    "v0x = vi*np.cos(thetai)\n",
    "v0y = vi*np.sin(thetai)\n",
    "t0,x0,y0 = 0.,0.,1.2\n",
    "g = 9.8\n",
    "xF = lambda t: x0 + v0x*(t-t0)\n",
    "yF = lambda t: y0 + v0y*(t-t0) - g*((t-t0)**2)/2.\n",
    "tmin,tmax = t0,5.\n",
    "tpts = np.linspace(tmin,tmax,100)\n",
    "dt = 0.1\n",
    "\n",
    "ax1 = plt.subplot(131)\n",
    "line1, = ax1.plot(xF(tpts),yF(tpts),'--',linewidth=3)\n",
    "ax1.plot([80.,80.],[0.,10.],linewidth=5)\n",
    "ax1.set_xlabel(r'x (m)')\n",
    "ax1.set_ylabel(r'y (m)')\n",
    "ax1.set_ylim(0.,yF(tpts).max()*1.1)\n",
    "text = ax1.text(1., yF(tpts).max(), r'$v_i = %1.2f$ m/s' %vi)\n",
    "ax2 = plt.subplot(132)\n",
    "line2, = ax2.plot(tpts,xF(tpts),'--',linewidth=3)\n",
    "ax2.set_xlabel(r't (s)')\n",
    "ax2.set_ylabel(r'x (m)')\n",
    "ax3 = plt.subplot(133)\n",
    "line3, = ax3.plot(tpts,yF(tpts),'--',linewidth=3)\n",
    "ax3.set_xlabel(r't (s)')\n",
    "ax3.set_ylabel(r'y (m)')\n",
    "ax3.set_ylim(0.,yF(tpts).max()*1.1)\n",
    "plt.tight_layout(pad=0.4, w_pad=0.5, h_pad=1.0)\n",
    "\n",
    "\n",
    "def init():\n",
    "    line1.set_data(xF(tpts),yF(tpts))\n",
    "    line2.set_data(tpts,xF(tpts))\n",
    "    line3.set_data(tpts,yF(tpts))\n",
    "    text.set_text(r'$v_i = %1.2f$ m/s' %vi)\n",
    "    return (line1,line2,line3,text)\n",
    "def animate(i):\n",
    "    vi = 30.-float(i)/30.\n",
    "    v0x = vi*np.cos(thetai)\n",
    "    v0y = vi*np.sin(thetai)\n",
    "    xF = lambda t: x0 + v0x*(t-t0)\n",
    "    yF = lambda t: y0 + v0y*(t-t0) - g*((t-t0)**2)/2.\n",
    "    line1.set_data(xF(tpts),yF(tpts))\n",
    "    line2.set_data(tpts,xF(tpts))\n",
    "    line3.set_data(tpts,yF(tpts))\n",
    "    text.set_text(r'$v_i = %1.2f$ m/s' %vi)\n",
    "    return (line1,line2,line3,text)\n",
    "\n",
    "\n",
    "anim = animation.FuncAnimation(fig, animate, init_func=init,\n",
    "                               frames=int((tmax-tmin)/dt), interval=150, \n",
    "                               blit=True)\n",
    "plt.close()\n",
    "anim"
   ]
  },
  {
   "cell_type": "code",
   "execution_count": null,
   "metadata": {},
   "outputs": [],
   "source": []
  }
 ],
 "metadata": {
  "kernelspec": {
   "display_name": "Python 3",
   "language": "python",
   "name": "python3"
  },
  "language_info": {
   "codemirror_mode": {
    "name": "ipython",
    "version": 3
   },
   "file_extension": ".py",
   "mimetype": "text/x-python",
   "name": "python",
   "nbconvert_exporter": "python",
   "pygments_lexer": "ipython3",
   "version": "3.6.7"
  }
 },
 "nbformat": 4,
 "nbformat_minor": 2
}
