{
 "cells": [
  {
   "cell_type": "code",
   "execution_count": null,
   "metadata": {},
   "outputs": [],
   "source": [
    "import numpy as np\n",
    "import matplotlib.pyplot as plt\n",
    "import scipy\n",
    "\n",
    "from matplotlib import animation, rc\n",
    "from IPython.display import HTML\n",
    "rc('animation', html='jshtml')\n",
    "import seaborn as sns\n",
    "\n",
    "#Define plotting style:\n",
    "sns.set() #Set style\n",
    "sns.set_style('ticks',{'font.family':'serif', 'font.serif':'Times New Roman'})\n",
    "sns.set_context('paper', font_scale=2.2)"
   ]
  },
  {
   "cell_type": "markdown",
   "metadata": {},
   "source": [
    "### Problema (Pêndulo)"
   ]
  },
  {
   "cell_type": "markdown",
   "metadata": {},
   "source": [
    "<font size=3px>Um pêndulo feito de uma esfera de massa $m$ presa a um fio de massa \n",
    "    desprezível e comprimento $L$, é solto do ponto $A$, conforme mostra a figura. <br>\n",
    "    a) Qual a velocidade da esfera no ponto B?<br>\n",
    "    b) Qual a tração da corda quando ela está neste ponto?\n",
    "</font>\n",
    "<img src=\"pendulo.png\" alt=\"Drawing\" style=\"width: 250px;\"/>"
   ]
  },
  {
   "cell_type": "code",
   "execution_count": null,
   "metadata": {},
   "outputs": [],
   "source": [
    "l = 1.\n",
    "m = 1.\n",
    "g = 9.8\n",
    "\n",
    "def Ftheta(t,xv):\n",
    "    theta,vtheta = xv\n",
    "    return -m*g*l*np.sin(theta)\n",
    "\n",
    "    \n",
    "def atheta(t,xv):\n",
    "    return Ftheta(t,xv)/(m*l**2)\n",
    "\n",
    "\n",
    "def RHS(t,xv):\n",
    "    theta,vtheta = xv\n",
    "    return [vtheta,atheta(t,xv)]\n",
    "\n",
    "vtheta0 = 0.\n",
    "theta0 = 45.*np.pi/180.\n",
    "xv0 = [theta0,vtheta0]\n",
    "t0, tf = 0.,5.\n",
    "sol = scipy.integrate.solve_ivp(RHS,(t0,tf),xv0,rtol=1e-7,atol=1e-7)\n",
    "xmax,xmin = max(sol.y[0,:]),min(sol.y[0,:])\n",
    "thetaF = scipy.interpolate.interp1d(sol.t,sol.y[0,:])\n",
    "vthetaF = scipy.interpolate.interp1d(sol.t,sol.y[1,:])\n",
    "xF = lambda t: l*np.sin(thetaF(t))\n",
    "yF = lambda t: l*(1.-np.cos(thetaF(t)))\n",
    "\n",
    "def KF(t):\n",
    "    return (m*l**2)*(vthetaF(t)**2)/2.\n",
    "\n",
    "def UF(t):\n",
    "    return m*g*l*(1.-np.cos(thetaF(t)))"
   ]
  },
  {
   "cell_type": "code",
   "execution_count": null,
   "metadata": {},
   "outputs": [],
   "source": [
    "~tmin, tmax = t0,tf\n",
    "dt = 0.05\n",
    "tpts = np.linspace(tmin,tmax,100)\n",
    "\n",
    "fig = plt.figure(figsize=(22,7))\n",
    "ax1 = plt.subplot(131)\n",
    "pt, = ax1.plot([xF(tmin)],[yF(tmin)],'o',markersize=25)\n",
    "line, = ax1.plot([xF(tmin),0.],[yF(tmin),l],'-',linewidth=3.0)\n",
    "xlabel = ax1.set_xlabel('x (m)')\n",
    "ylabel = ax1.set_ylabel('y (m)')\n",
    "ax1.set_xlim(-l,l)\n",
    "ax1.set_ylim(-0.1*l,1.1*l)\n",
    "\n",
    "ax2 = plt.subplot(132)\n",
    "Kl, = ax2.plot(tpts,KF(tpts),'--',linewidth=4.0)\n",
    "Ul, = ax2.plot(tpts,UF(tpts),'--',linewidth=4.0)\n",
    "El, = ax2.plot(tpts,KF(tpts)+UF(tpts),linewidth=4.0)\n",
    "xlabel = ax2.set_xlabel('t (s)')\n",
    "ax2.legend(['K','U','K+U'],loc='upper right',framealpha=1.0,fontsize=25.0)\n",
    "\n",
    "\n",
    "ax3 = plt.subplot(133)\n",
    "Ufunc, = ax3.plot(xF(tpts),UF(tpts),'-',linewidth=4.0)\n",
    "ptB, = ax3.plot([xF(tmin)],[UF(tmin)],'o',markersize=20)\n",
    "eel = ax3.plot([xmin,xmax],[UF(tmin)+KF(tmin),UF(tmax)+KF(tmax)],'-',linewidth=3.)\n",
    "xlabel = ax3.set_xlabel('x (m)')\n",
    "ylabel = ax3.set_ylabel('U(x) (J)')\n",
    "\n",
    "\n",
    "def init():\n",
    "    tpts = [tmin]\n",
    "    pt.set_data([xF(tmin)],[yF(tmin)])\n",
    "    line.set_data([xF(tmin),0.],[yF(tmin),l])\n",
    "    Kl.set_data(tpts,KF(tpts))\n",
    "    Ul.set_data(tpts,UF(tpts))\n",
    "    ptB.set_data([xF(tmin)],[UF(tmin)])\n",
    "    return (pt,line,Kl,Ul,ptB)\n",
    "\n",
    "def animate(i):\n",
    "    \n",
    "    tA = tmin+i*dt\n",
    "    tpts = np.linspace(tmin,tA,100)\n",
    "    xpt = [xF(tA)]\n",
    "    ypt = [yF(tA)]\n",
    "    pt.set_data(xpt,ypt)\n",
    "    line.set_data([xF(tA),0.],[yF(tA),l])\n",
    "    Kl.set_data(tpts,KF(tpts))\n",
    "    Ul.set_data(tpts,UF(tpts))\n",
    "    ptB.set_data([xF(tA)],[UF(tA)])\n",
    "    return (pt,line,Kl,Ul,ptB)\n",
    "\n",
    "\n",
    "anim = animation.FuncAnimation(fig, animate, init_func=init,\n",
    "                               frames=int((tmax-tmin)/dt), interval=50, \n",
    "                               blit=True)\n",
    "plt.close()\n",
    "anim\n",
    "# plt.show()"
   ]
  },
  {
   "cell_type": "markdown",
   "metadata": {},
   "source": [
    "#### Respostas:"
   ]
  },
  {
   "cell_type": "code",
   "execution_count": null,
   "metadata": {},
   "outputs": [],
   "source": [
    "vB = np.sqrt(2*l*g*(1.-np.cos(theta0)))\n",
    "TB = m*(vB**2)/l + m*g\n",
    "print('a) vB = %2.3f m/s' %vB)\n",
    "print('b) T = %2.3f N' %TB)"
   ]
  }
 ],
 "metadata": {
  "kernelspec": {
   "display_name": "Python 3",
   "language": "python",
   "name": "python3"
  },
  "language_info": {
   "codemirror_mode": {
    "name": "ipython",
    "version": 3
   },
   "file_extension": ".py",
   "mimetype": "text/x-python",
   "name": "python",
   "nbconvert_exporter": "python",
   "pygments_lexer": "ipython3",
   "version": "3.7.3"
  }
 },
 "nbformat": 4,
 "nbformat_minor": 2
}
