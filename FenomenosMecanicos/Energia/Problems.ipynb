{
 "cells": [
  {
   "cell_type": "code",
   "execution_count": 1,
   "metadata": {},
   "outputs": [],
   "source": [
    "import numpy as np\n",
    "import matplotlib.pyplot as plt\n",
    "import scipy\n",
    "import sympy as sp\n",
    "from sympy.vector import CoordSys3D\n",
    "\n",
    "from matplotlib import animation, rc\n",
    "from IPython.display import HTML, display\n",
    "rc('animation', html='jshtml')\n",
    "import seaborn as sns\n",
    "C = CoordSys3D('')\n",
    "\n",
    "#Define plotting style:\n",
    "sns.set() #Set style\n",
    "sns.set_style('ticks',{'font.family':'serif', 'font.serif':'Times New Roman'})\n",
    "sns.set_context('poster', font_scale=0.8,  rc={\"lines.linewidth\": 5})"
   ]
  },
  {
   "cell_type": "markdown",
   "metadata": {},
   "source": [
    "## Problema (Mola atrito)"
   ]
  },
  {
   "cell_type": "markdown",
   "metadata": {},
   "source": [
    "<font size=3px>Uma mola de constante elástica $k = 20$ N/m está presa a um bloco de massa $m = 5$ kg. O bloco é\n",
    "    colocado na posição $x_0 = -1$ m e solto a partir do repouso. A mola encontra-se relaxada quando a posição do bloco\n",
    "    é $x=0$. Se a superfície possui um coeficiente de atrito cinético $\\mu_k = 0.02$, calcule:<br>\n",
    "    a) O trabalho realizado pela força de atrito entre a $x_0$ e a elongação máxima da mola ($x_{max}$). Escreva a resposta em função de $x_{max}$.<br>\n",
    "    b) O trabalho realizado pela força elástica entre a $x_0$ e a elongação máxima da mola ($x_{max}$).  Escreva a resposta em função de $x_{max}$.<br>\n",
    "    c) Determine o valor de $x_{max}$.<br>\n",
    "    d) Determine para qual valor de $x$ a energia cinética do bloco será máxima.\n",
    "</font>"
   ]
  },
  {
   "cell_type": "code",
   "execution_count": 2,
   "metadata": {},
   "outputs": [],
   "source": [
    "#Definir variaveis/parametros:\n",
    "m,k,x0,v,x,xm,muk,g = sp.symbols('m,k,x_0,v,x,x_{max},mu_k,g')\n",
    "subsList = [(m,5.0),(x0,-1.),(k,20.),(muk,0.02),(g,9.8)]"
   ]
  },
  {
   "cell_type": "code",
   "execution_count": 3,
   "metadata": {},
   "outputs": [
    {
     "data": {
      "text/latex": [
       "$\\displaystyle - g m \\mu_{k} \\left(- x_{0} + x_{max}\\right)$"
      ],
      "text/plain": [
       "-g*m*mu_k*(-x_0 + x_{max})"
      ]
     },
     "metadata": {},
     "output_type": "display_data"
    },
    {
     "data": {
      "text/latex": [
       "$\\displaystyle - 0.98 x_{max} - 0.98$"
      ],
      "text/plain": [
       "-0.98*x_{max} - 0.98"
      ]
     },
     "execution_count": 3,
     "metadata": {},
     "output_type": "execute_result"
    }
   ],
   "source": [
    "#item a)\n",
    "#Entre a posição inicial e xmax a força de atrito sempre é oposta ao eixo x e constante:\n",
    "N = m*g\n",
    "Fatv = -N*muk*C.i\n",
    "#Então o trabalho da força será:\n",
    "Wf = Fatv.dot((xm-x0)*C.i)\n",
    "resp = display(Wf)\n",
    "Wf.subs(subsList)"
   ]
  },
  {
   "cell_type": "code",
   "execution_count": 4,
   "metadata": {},
   "outputs": [
    {
     "data": {
      "text/latex": [
       "$\\displaystyle \\frac{k x_{0}^{2}}{2} - \\frac{k x_{max}^{2}}{2}$"
      ],
      "text/plain": [
       "k*x_0**2/2 - k*x_{max}**2/2"
      ]
     },
     "metadata": {},
     "output_type": "display_data"
    },
    {
     "data": {
      "text/latex": [
       "$\\displaystyle 10.0 - 10.0 x_{max}^{2}$"
      ],
      "text/plain": [
       "10.0 - 10.0*x_{max}**2"
      ]
     },
     "execution_count": 4,
     "metadata": {},
     "output_type": "execute_result"
    }
   ],
   "source": [
    "#item b)\n",
    "#A força elástica é dada por:\n",
    "Fel = -k*x*C.i\n",
    "#Então o trabalho da força será:\n",
    "We = sp.integrate(Fel.dot(C.i),(x,x0,xm))\n",
    "resp = display(We)\n",
    "We.subs(subsList)"
   ]
  },
  {
   "cell_type": "code",
   "execution_count": 5,
   "metadata": {},
   "outputs": [
    {
     "data": {
      "text/latex": [
       "$\\displaystyle - \\frac{2 g m \\mu_{k}}{k} - x_{0}$"
      ],
      "text/plain": [
       "-2*g*m*mu_k/k - x_0"
      ]
     },
     "metadata": {},
     "output_type": "display_data"
    },
    {
     "data": {
      "text/latex": [
       "$\\displaystyle 0.902$"
      ],
      "text/plain": [
       "0.902000000000000"
      ]
     },
     "execution_count": 5,
     "metadata": {},
     "output_type": "execute_result"
    }
   ],
   "source": [
    "#item c)\n",
    "#xmax será dado pelo ponto onde a energia cinética é nula, ou seja deltaK = 0 (pois K0=0):\n",
    "Wtotal = We + Wf\n",
    "dK = 0\n",
    "xmsol = sp.solve(sp.Eq(Wtotal,dK),xm)[1]\n",
    "resp = display(xmsol)\n",
    "xmsol.subs(subsList)"
   ]
  },
  {
   "cell_type": "code",
   "execution_count": 6,
   "metadata": {},
   "outputs": [
    {
     "data": {
      "text/latex": [
       "$\\displaystyle - g m \\mu_{k} \\left(x - x_{0}\\right) - \\frac{k x^{2}}{2} + \\frac{k x_{0}^{2}}{2}$"
      ],
      "text/plain": [
       "-g*m*mu_k*(x - x_0) - k*x**2/2 + k*x_0**2/2"
      ]
     },
     "metadata": {},
     "output_type": "display_data"
    },
    {
     "data": {
      "text/latex": [
       "$\\displaystyle - \\frac{g m \\mu_{k}}{k}$"
      ],
      "text/plain": [
       "-g*m*mu_k/k"
      ]
     },
     "metadata": {},
     "output_type": "display_data"
    },
    {
     "data": {
      "text/latex": [
       "$\\displaystyle -0.049$"
      ],
      "text/plain": [
       "-0.0490000000000000"
      ]
     },
     "execution_count": 6,
     "metadata": {},
     "output_type": "execute_result"
    }
   ],
   "source": [
    "#item d)\n",
    "#A energia cinética quando o bloco está na posição x é:\n",
    "K = Wtotal.subs(xm,x)\n",
    "resp = display(K)\n",
    "xsol = sp.solve(sp.Eq(sp.diff(K,x),0),x)[0]\n",
    "resp = display(xsol)\n",
    "xsol.subs(subsList)"
   ]
  },
  {
   "cell_type": "markdown",
   "metadata": {},
   "source": [
    "## Problema (Pêndulo)"
   ]
  },
  {
   "cell_type": "markdown",
   "metadata": {},
   "source": [
    "<font size=3px>Um pêndulo feito de uma esfera de massa $m$ presa a um fio de massa \n",
    "    desprezível e comprimento $l$, é solto do ponto indicado na figura. <br>\n",
    "    a) Escreva o diagrama de forças que atuam no pêndulo quando este se encontra a um ângulo $\\theta$.<br>\n",
    "    b) Calcule o trabalho realizado pela tração durante o ponto inicial e o de menor altura do pêndulo.<br>\n",
    "    c) Calcule o trabalho realizado pela força peso durante o ponto inicial e o de menor altura do pêndulo.<br>\n",
    "    d) Qual o vetor velocidade do pêndulo quando ele se encontra em seu ponto de menor altura?\n",
    "</font>\n",
    "<img src=\"pendulo.png\" alt=\"Drawing\" style=\"width: 250px;\"/>"
   ]
  },
  {
   "cell_type": "code",
   "execution_count": 7,
   "metadata": {},
   "outputs": [],
   "source": [
    "#Definir variaveis/parametros:\n",
    "m,l,tt,v,T,g,dtt,tt0 = sp.symbols('m,l,theta,v,T,g,dθ,theta_0')"
   ]
  },
  {
   "cell_type": "code",
   "execution_count": 8,
   "metadata": {},
   "outputs": [
    {
     "data": {
      "text/latex": [
       "$\\displaystyle (- T \\sin{\\left(\\theta \\right)})\\mathbf{\\hat{i}_{}} + (T \\cos{\\left(\\theta \\right)})\\mathbf{\\hat{j}_{}}$"
      ],
      "text/plain": [
       "(-T*sin(theta))*.i + (T*cos(theta))*.j"
      ]
     },
     "metadata": {},
     "output_type": "display_data"
    },
    {
     "data": {
      "text/latex": [
       "$\\displaystyle (- g m)\\mathbf{\\hat{j}_{}}$"
      ],
      "text/plain": [
       "(-g*m)*.j"
      ]
     },
     "metadata": {},
     "output_type": "display_data"
    }
   ],
   "source": [
    "#item a)\n",
    "#Adotando um sistema onde y aponta para cima (vertical):\n",
    "Tv = T*sp.cos(tt)*C.j - T*sp.sin(tt)*C.i\n",
    "Pv = -m*g*C.j\n",
    "resp = display(Tv)\n",
    "resp = display(Pv)"
   ]
  },
  {
   "cell_type": "code",
   "execution_count": 9,
   "metadata": {},
   "outputs": [
    {
     "data": {
      "text/latex": [
       "$\\displaystyle 0$"
      ],
      "text/plain": [
       "0"
      ]
     },
     "execution_count": 9,
     "metadata": {},
     "output_type": "execute_result"
    }
   ],
   "source": [
    "#item b)\n",
    "#O vetor deslocamento é dado por:\n",
    "drv = -l*dtt*(-sp.cos(tt)*C.i+-sp.sin(tt)*C.j)\n",
    "#O produto escalar da tensão com dr é:\n",
    "Tv.dot(drv)\n",
    "#Logo WT = 0"
   ]
  },
  {
   "cell_type": "code",
   "execution_count": 10,
   "metadata": {},
   "outputs": [
    {
     "data": {
      "text/latex": [
       "$\\displaystyle - dθ g l m \\sin{\\left(\\theta \\right)}$"
      ],
      "text/plain": [
       "-dθ*g*l*m*sin(theta)"
      ]
     },
     "metadata": {},
     "output_type": "display_data"
    },
    {
     "data": {
      "text/latex": [
       "$\\displaystyle g l m \\left(1 - \\cos{\\left(\\theta_{0} \\right)}\\right)$"
      ],
      "text/plain": [
       "g*l*m*(1 - cos(theta_0))"
      ]
     },
     "metadata": {},
     "output_type": "display_data"
    }
   ],
   "source": [
    "#item c)\n",
    "#O produto escalar do peso com dr é:\n",
    "resp = display(Pv.dot(drv))\n",
    "#Então o trabalho do peso é:\n",
    "WP = sp.integrate(Pv.dot(drv)/dtt,(tt,tt0,0))\n",
    "resp = display(sp.simplify(WP))"
   ]
  },
  {
   "cell_type": "code",
   "execution_count": 11,
   "metadata": {},
   "outputs": [
    {
     "data": {
      "text/latex": [
       "$\\displaystyle (- \\sqrt{2} \\sqrt{g l \\left(1 - \\cos{\\left(\\theta_{0} \\right)}\\right)})\\mathbf{\\hat{i}_{}}$"
      ],
      "text/plain": [
       "(-sqrt(2)*sqrt(g*l*(1 - cos(theta_0))))*.i"
      ]
     },
     "execution_count": 11,
     "metadata": {},
     "output_type": "execute_result"
    }
   ],
   "source": [
    "#item d)\n",
    "#No ponto de menor altura:\n",
    "K = WP\n",
    "vsol = sp.solve(sp.Eq(m*v**2/2,K),v)[0]\n",
    "#E como a velocidade aponta contra o eixo x:\n",
    "v = vsol*(-C.i)\n",
    "v"
   ]
  },
  {
   "cell_type": "markdown",
   "metadata": {},
   "source": [
    "## Problema (Mola - queda livre)"
   ]
  },
  {
   "cell_type": "markdown",
   "metadata": {},
   "source": [
    "<font size=3px> Um bloco de massa $m$ é deixado cair em uma mola vertical, inicialmente relaxada, com uma constante elástica $k$. O bloco fica aclopado à mola, comprimindo-a de $d$ até parar momentaneamente.<br>\n",
    "    a) Especifique um sistema de coordenadas e determine os vetores força que atuam no bloco durante a compressão da mola.<br>\n",
    "    b) Determine o trabalho total realizado pela força elástica até a compressão máxima da mola.<br>\n",
    "    c) Qual é a velocidade do bloco imediatamente antes de se chocar com a mola?<br>\n",
    "    d) Qual é a altura máxima do bloco após este ser lançado verticalmente para cima pela mola?\n",
    "</font>\n",
    "<img src=\"blocoMola.png\" alt=\"Drawing\" style=\"width: 100px;\"/>"
   ]
  },
  {
   "cell_type": "code",
   "execution_count": 12,
   "metadata": {},
   "outputs": [],
   "source": [
    "#Definir variaveis/parametros:\n",
    "m,d,k,g,v0,x,h = sp.symbols('m,d,k,g,v_0,x,h')"
   ]
  },
  {
   "cell_type": "code",
   "execution_count": 13,
   "metadata": {},
   "outputs": [
    {
     "data": {
      "text/latex": [
       "$\\displaystyle (- g m)\\mathbf{\\hat{i}_{}}$"
      ],
      "text/plain": [
       "(-g*m)*.i"
      ]
     },
     "metadata": {},
     "output_type": "display_data"
    },
    {
     "data": {
      "text/latex": [
       "$\\displaystyle (- k x)\\mathbf{\\hat{i}_{}}$"
      ],
      "text/plain": [
       "(-k*x)*.i"
      ]
     },
     "metadata": {},
     "output_type": "display_data"
    }
   ],
   "source": [
    "#item a)\n",
    "#Adotando um sistema de coordenadas x vertical que aponta para cima e com origem no ponto de relaxamento da mola:\n",
    "Pv = -m*g*C.i\n",
    "Fk = -k*x*C.i\n",
    "resp = display(Pv)\n",
    "resp = display(Fk)"
   ]
  },
  {
   "cell_type": "code",
   "execution_count": 14,
   "metadata": {},
   "outputs": [
    {
     "data": {
      "text/latex": [
       "$\\displaystyle - \\frac{d^{2} k}{2}$"
      ],
      "text/plain": [
       "-d**2*k/2"
      ]
     },
     "metadata": {},
     "output_type": "display_data"
    }
   ],
   "source": [
    "#item b)\n",
    "#Adotando o ponto de referência da energia potencial como a origem, temos que a variação da energia\n",
    "#potencial elástica é:\n",
    "Uk0 = 0 #energia inicial\n",
    "Ukf = k*d**2/2 #energia no ponto de máxima compressão (x = -d)\n",
    "#Logo o trabalho é:\n",
    "Wk = -(Ukf-Uk0)\n",
    "resp = display(Wk)"
   ]
  },
  {
   "cell_type": "code",
   "execution_count": 15,
   "metadata": {},
   "outputs": [
    {
     "data": {
      "text/latex": [
       "$\\displaystyle \\sqrt{\\frac{d \\left(d k - 2 g m\\right)}{m}}$"
      ],
      "text/plain": [
       "sqrt(d*(d*k - 2*g*m)/m)"
      ]
     },
     "execution_count": 15,
     "metadata": {},
     "output_type": "execute_result"
    }
   ],
   "source": [
    "#item c)\n",
    "#Como todas as forças são conservativas, a variação de energia mecânica é zero.\n",
    "#No ponto inicial:\n",
    "U0 = 0\n",
    "K0 = m*v0**2/2\n",
    "#No ponto de máxima compressão (x = -d):\n",
    "Uf = -m*g*d +k*d**2/2\n",
    "Kf = 0\n",
    "#Então:\n",
    "vsol = sp.solve(sp.Eq(U0+K0,Uf+Kf),v0)[1]\n",
    "vsol"
   ]
  },
  {
   "cell_type": "code",
   "execution_count": 16,
   "metadata": {},
   "outputs": [
    {
     "data": {
      "text/latex": [
       "$\\displaystyle \\frac{d^{2} k}{2 g m} - d$"
      ],
      "text/plain": [
       "d**2*k/(2*g*m) - d"
      ]
     },
     "execution_count": 16,
     "metadata": {},
     "output_type": "execute_result"
    }
   ],
   "source": [
    "#A energia total do bloco é:\n",
    "E0 = K0.subs(v0,vsol) + U0\n",
    "#No ponto de máxima altura:\n",
    "Kf = 0\n",
    "Uf = m*g*h\n",
    "hsol = sp.solve(sp.Eq(E0,Uf+Kf),h)[0]\n",
    "hsol"
   ]
  },
  {
   "cell_type": "markdown",
   "metadata": {},
   "source": [
    "## Problema (Duas molas)"
   ]
  },
  {
   "cell_type": "markdown",
   "metadata": {},
   "source": [
    "<font size=3px> Considere um bloco sobre uma mesa. Esse bloco sai do repouso e é empurrado por uma mola presa à parede,\n",
    "desliza pela mesa e depois cai verticalmente no chão, onde outra mola, de comprimento $L_0 = 0,3$ m, aguarda sua chegada. O bloco tem massa $m = 1,35$ kg. A constante elástica da mola da mesa é $k_1 = 560$ N/m. O bloco desliza uma distância $d = 0,65$ m pela mesa desde o instante inicial. A altura da mesa é $h = 0,75$ m e o coeficiente de atrito cinético entre o bloco e a mesa é $\\mu_k = 0,16$.<br>\n",
    "    a) Calcule o trabalho realizado pela força de atrito.<br>\n",
    "    b) Calcule qual foi a compressão inicial da mola na mesa.<br>\n",
    "    c) Calcule a compressão máxima da mola localizada no chão se a sua constante elástica é $k_2 = 600$ N/m.\n",
    "</font>\n",
    "<img src=\"duasMolas.png\" alt=\"Drawing\" style=\"width: 200px;\"/>"
   ]
  },
  {
   "cell_type": "code",
   "execution_count": 17,
   "metadata": {},
   "outputs": [],
   "source": [
    "#Definir variaveis/parametros:\n",
    "m,L0,k1,d,k2,g,v0,muk,h,d0,y = sp.symbols('m,L_0,k_1,d,k_2,g,v_0,mu_k,h,d_0,y')\n",
    "subsList = [(L0,0.3),(m,1.35),(k1,560),(d,0.65),(h,0.75),(muk,0.16),(g,9.8),(k2,600)]"
   ]
  },
  {
   "cell_type": "code",
   "execution_count": 18,
   "metadata": {},
   "outputs": [
    {
     "data": {
      "text/latex": [
       "$\\displaystyle - d g m \\mu_{k}$"
      ],
      "text/plain": [
       "-d*g*m*mu_k"
      ]
     },
     "metadata": {},
     "output_type": "display_data"
    },
    {
     "data": {
      "text/latex": [
       "$\\displaystyle -1.4$"
      ],
      "text/plain": [
       "-1.4"
      ]
     },
     "execution_count": 18,
     "metadata": {},
     "output_type": "execute_result"
    }
   ],
   "source": [
    "#item a)\n",
    "#Adotando um sistema de coordenadas com origem no ponto de relaxamento da mola da mesa e no chão, com o eixo x apontando para a direita\n",
    "#e o eixo y para cima, temos que o trabalho da força de atrito será:\n",
    "Fat = -m*g*muk*C.i\n",
    "dx = d*C.i\n",
    "Wfat = Fat.dot(dx)\n",
    "resp = display(Wfat)\n",
    "Wfat.subs(subsList).evalf(2)"
   ]
  },
  {
   "cell_type": "code",
   "execution_count": 19,
   "metadata": {},
   "outputs": [
    {
     "data": {
      "text/latex": [
       "$\\displaystyle \\sqrt{2} \\sqrt{\\frac{d g m \\mu_{k}}{k_{1}}}$"
      ],
      "text/plain": [
       "sqrt(2)*sqrt(d*g*m*mu_k/k_1)"
      ]
     },
     "metadata": {},
     "output_type": "display_data"
    },
    {
     "data": {
      "text/latex": [
       "$\\displaystyle 0.07$"
      ],
      "text/plain": [
       "0.070"
      ]
     },
     "execution_count": 19,
     "metadata": {},
     "output_type": "execute_result"
    }
   ],
   "source": [
    "#item b)\n",
    "#Para que o bloco caia na segunda mola, sua velocidade ao final da mesa deve ser nula.\n",
    "#No instante inicial temos:\n",
    "U0 = k1*d0**2/2 + m*g*h\n",
    "K0 = 0\n",
    "#Já no instante em que chega ao final da mesa:\n",
    "Uf = m*g*h\n",
    "Kf = 0\n",
    "#A variação de energia total deve ser igual ao trabalho da força de atrito:\n",
    "dsol = sp.solve(sp.Eq(Uf+Kf-(U0+K0),Wfat),d0)[1]\n",
    "resp = display(dsol)\n",
    "dsol.subs(subsList).evalf(2)"
   ]
  },
  {
   "cell_type": "code",
   "execution_count": 20,
   "metadata": {},
   "outputs": [
    {
     "data": {
      "text/latex": [
       "$\\displaystyle \\frac{L_{0} k_{2} - g m - \\sqrt{g m \\left(- 2 L_{0} k_{2} + g m + 2 h k_{2}\\right)}}{k_{2}}$"
      ],
      "text/plain": [
       "(L_0*k_2 - g*m - sqrt(g*m*(-2*L_0*k_2 + g*m + 2*h*k_2)))/k_2"
      ]
     },
     "metadata": {},
     "output_type": "display_data"
    },
    {
     "data": {
      "text/latex": [
       "$\\displaystyle 0.14$"
      ],
      "text/plain": [
       "0.14"
      ]
     },
     "execution_count": 20,
     "metadata": {},
     "output_type": "execute_result"
    }
   ],
   "source": [
    "#item c)\n",
    "#A energia potencial da segunda mola é dada por:\n",
    "Uk = k2*((y-L0)**2)/2\n",
    "#Já a energia potencial gravitacional é:\n",
    "Ug = m*g*y\n",
    "#No ponto de máxima compressão da mola, temos:\n",
    "E2 = Uk+Ug\n",
    "#e como a energia inicial (após sair da mesa) é conservada:\n",
    "Ef = m*g*h\n",
    "#temos:\n",
    "ysol = sp.solve(sp.Eq(Ef,E2),y)[0]\n",
    "resp = display(ysol)\n",
    "ysol.subs(subsList).evalf(2)"
   ]
  },
  {
   "cell_type": "code",
   "execution_count": 21,
   "metadata": {},
   "outputs": [
    {
     "data": {
      "text/latex": [
       "$\\displaystyle \\frac{g m + \\sqrt{g m \\left(- 2 L_{0} k_{2} + g m + 2 h k_{2}\\right)}}{k_{2}}$"
      ],
      "text/plain": [
       "(g*m + sqrt(g*m*(-2*L_0*k_2 + g*m + 2*h*k_2)))/k_2"
      ]
     },
     "metadata": {},
     "output_type": "display_data"
    },
    {
     "data": {
      "text/latex": [
       "$\\displaystyle 0.16$"
      ],
      "text/plain": [
       "0.16"
      ]
     },
     "execution_count": 21,
     "metadata": {},
     "output_type": "execute_result"
    }
   ],
   "source": [
    "#Logo a compressão máxima da mola será:\n",
    "dmax = sp.simplify(L0-ysol)\n",
    "resp = display(dmax)\n",
    "dmax.subs(subsList).evalf(2)"
   ]
  },
  {
   "cell_type": "code",
   "execution_count": null,
   "metadata": {},
   "outputs": [],
   "source": []
  }
 ],
 "metadata": {
  "kernelspec": {
   "display_name": "Python 3",
   "language": "python",
   "name": "python3"
  },
  "language_info": {
   "codemirror_mode": {
    "name": "ipython",
    "version": 3
   },
   "file_extension": ".py",
   "mimetype": "text/x-python",
   "name": "python",
   "nbconvert_exporter": "python",
   "pygments_lexer": "ipython3",
   "version": "3.8.10"
  }
 },
 "nbformat": 4,
 "nbformat_minor": 2
}
