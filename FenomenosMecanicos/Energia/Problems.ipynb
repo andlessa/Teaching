{
 "cells": [
  {
   "cell_type": "code",
   "execution_count": 1,
   "metadata": {},
   "outputs": [],
   "source": [
    "import numpy as np\n",
    "import matplotlib.pyplot as plt\n",
    "import scipy\n",
    "import sympy as sp\n",
    "from sympy.vector import CoordSys3D\n",
    "\n",
    "from matplotlib import animation, rc\n",
    "from IPython.display import HTML, display\n",
    "rc('animation', html='jshtml')\n",
    "import seaborn as sns\n",
    "C = CoordSys3D('')\n",
    "\n",
    "#Define plotting style:\n",
    "sns.set() #Set style\n",
    "sns.set_style('ticks',{'font.family':'serif', 'font.serif':'Times New Roman'})\n",
    "sns.set_context('poster', font_scale=0.8,  rc={\"lines.linewidth\": 5})"
   ]
  },
  {
   "cell_type": "markdown",
   "metadata": {},
   "source": [
    "## Problema (Mola atrito)"
   ]
  },
  {
   "cell_type": "markdown",
   "metadata": {},
   "source": [
    "<font size=3px>Uma mola de constante elástica $k = 20$ N/m está presa a um bloco de massa $m = 5$ kg. O bloco é\n",
    "    colocado na posição $x_0 = -1$ m e solto a partir do repouso. A mola encontra-se relaxada quando a posição do bloco\n",
    "    é $x=0$. Se a superfície possui um coeficiente de atrito cinético $\\mu_k = 0.02$, calcule:<br>\n",
    "    a) O trabalho realizado pela força de atrito entre a $x_0$ e a elongação máxima da mola ($x_{max}$). Escreva a resposta em função de $x_{max}$.<br>\n",
    "    b) O trabalho realizado pela força elástica entre a $x_0$ e a elongação máxima da mola ($x_{max}$).  Escreva a resposta em função de $x_{max}$.<br>\n",
    "    c) Determine o valor de $x_{max}$.<br>\n",
    "    d) Determine para qual valor de $x$ a energia cinética do bloco será máxima.\n",
    "</font>"
   ]
  },
  {
   "cell_type": "code",
   "execution_count": 2,
   "metadata": {},
   "outputs": [],
   "source": [
    "#Definir variaveis/parametros:\n",
    "m,k,x0,v,x,xm,muk,g = sp.symbols('m,k,x_0,v,x,x_{max},mu_k,g')\n",
    "subsList = [(m,5.0),(x0,-1.),(k,20.),(muk,0.02),(g,9.8)]"
   ]
  },
  {
   "cell_type": "code",
   "execution_count": 3,
   "metadata": {},
   "outputs": [
    {
     "data": {
      "text/latex": [
       "$\\displaystyle - g m \\mu_{k} \\left(- x_{0} + x_{max}\\right)$"
      ],
      "text/plain": [
       "-g*m*mu_k*(-x_0 + x_{max})"
      ]
     },
     "metadata": {},
     "output_type": "display_data"
    },
    {
     "data": {
      "text/latex": [
       "$\\displaystyle - 0.98 x_{max} - 0.98$"
      ],
      "text/plain": [
       "-0.98*x_{max} - 0.98"
      ]
     },
     "execution_count": 3,
     "metadata": {},
     "output_type": "execute_result"
    }
   ],
   "source": [
    "#item a)\n",
    "#Entre a posição inicial e xmax a força de atrito sempre é oposta ao eixo x e constante:\n",
    "N = m*g\n",
    "Fatv = -N*muk*C.i\n",
    "#Então o trabalho da força será:\n",
    "Wf = Fatv.dot((xm-x0)*C.i)\n",
    "resp = display(Wf)\n",
    "Wf.subs(subsList)"
   ]
  },
  {
   "cell_type": "code",
   "execution_count": 4,
   "metadata": {},
   "outputs": [
    {
     "data": {
      "text/latex": [
       "$\\displaystyle \\frac{k x_{0}^{2}}{2} - \\frac{k x_{max}^{2}}{2}$"
      ],
      "text/plain": [
       "k*x_0**2/2 - k*x_{max}**2/2"
      ]
     },
     "metadata": {},
     "output_type": "display_data"
    },
    {
     "data": {
      "text/latex": [
       "$\\displaystyle 10.0 - 10.0 x_{max}^{2}$"
      ],
      "text/plain": [
       "10.0 - 10.0*x_{max}**2"
      ]
     },
     "execution_count": 4,
     "metadata": {},
     "output_type": "execute_result"
    }
   ],
   "source": [
    "#item b)\n",
    "#A força elástica é dada por:\n",
    "Fel = -k*x*C.i\n",
    "#Então o trabalho da força será:\n",
    "We = sp.integrate(Fel.dot(C.i),(x,x0,xm))\n",
    "resp = display(We)\n",
    "We.subs(subsList)"
   ]
  },
  {
   "cell_type": "code",
   "execution_count": 5,
   "metadata": {},
   "outputs": [
    {
     "data": {
      "text/latex": [
       "$\\displaystyle - \\frac{2 g m \\mu_{k}}{k} - x_{0}$"
      ],
      "text/plain": [
       "-2*g*m*mu_k/k - x_0"
      ]
     },
     "metadata": {},
     "output_type": "display_data"
    },
    {
     "data": {
      "text/latex": [
       "$\\displaystyle 0.902$"
      ],
      "text/plain": [
       "0.902000000000000"
      ]
     },
     "execution_count": 5,
     "metadata": {},
     "output_type": "execute_result"
    }
   ],
   "source": [
    "#item c)\n",
    "#xmax será dado pelo ponto onde a energia cinética é nula, ou seja deltaK = 0 (pois K0=0):\n",
    "Wtotal = We + Wf\n",
    "dK = 0\n",
    "xmsol = sp.solve(sp.Eq(Wtotal,dK),xm)[1]\n",
    "resp = display(xmsol)\n",
    "xmsol.subs(subsList)"
   ]
  },
  {
   "cell_type": "code",
   "execution_count": 6,
   "metadata": {},
   "outputs": [
    {
     "data": {
      "text/latex": [
       "$\\displaystyle - g m \\mu_{k} \\left(x - x_{0}\\right) - \\frac{k x^{2}}{2} + \\frac{k x_{0}^{2}}{2}$"
      ],
      "text/plain": [
       "-g*m*mu_k*(x - x_0) - k*x**2/2 + k*x_0**2/2"
      ]
     },
     "metadata": {},
     "output_type": "display_data"
    },
    {
     "data": {
      "text/latex": [
       "$\\displaystyle - \\frac{g m \\mu_{k}}{k}$"
      ],
      "text/plain": [
       "-g*m*mu_k/k"
      ]
     },
     "metadata": {},
     "output_type": "display_data"
    },
    {
     "data": {
      "text/latex": [
       "$\\displaystyle -0.049$"
      ],
      "text/plain": [
       "-0.0490000000000000"
      ]
     },
     "execution_count": 6,
     "metadata": {},
     "output_type": "execute_result"
    }
   ],
   "source": [
    "#item d)\n",
    "#A energia cinética quando o bloco está na posição x é:\n",
    "K = Wtotal.subs(xm,x)\n",
    "resp = display(K)\n",
    "xsol = sp.solve(sp.Eq(sp.diff(K,x),0),x)[0]\n",
    "resp = display(xsol)\n",
    "xsol.subs(subsList)"
   ]
  },
  {
   "cell_type": "markdown",
   "metadata": {},
   "source": [
    "## Problema (Pêndulo)"
   ]
  },
  {
   "cell_type": "markdown",
   "metadata": {},
   "source": [
    "<font size=3px>Um pêndulo feito de uma esfera de massa $m$ presa a um fio de massa \n",
    "    desprezível e comprimento $l$, é solto do ponto indicado na figura. <br>\n",
    "    a) Escreva o diagrama de forças que atuam no pêndulo quando este se encontra a um ângulo $\\theta$.<br>\n",
    "    b) Calcule o trabalho realizado pela tração durante o ponto inicial e o de menor altura do pêndulo.<br>\n",
    "    c) Calcule o trabalho realizado pela força peso durante o ponto inicial e o de menor altura do pêndulo.<br>\n",
    "    d) Qual o vetor velocidade do pêndulo quando ele se encontra em seu ponto de menor altura?\n",
    "</font>\n",
    "<img src=\"pendulo.png\" alt=\"Drawing\" style=\"width: 250px;\"/>"
   ]
  },
  {
   "cell_type": "code",
   "execution_count": 35,
   "metadata": {},
   "outputs": [],
   "source": [
    "#Definir variaveis/parametros:\n",
    "m,l,tt,v,T,g,dtt,tt0 = sp.symbols('m,l,theta,v,T,g,dθ,theta_0')"
   ]
  },
  {
   "cell_type": "code",
   "execution_count": 32,
   "metadata": {},
   "outputs": [
    {
     "data": {
      "text/latex": [
       "$\\displaystyle (- T \\sin{\\left(\\theta \\right)})\\mathbf{\\hat{i}_{}} + (T \\cos{\\left(\\theta \\right)})\\mathbf{\\hat{j}_{}}$"
      ],
      "text/plain": [
       "(-T*sin(theta))*.i + (T*cos(theta))*.j"
      ]
     },
     "metadata": {},
     "output_type": "display_data"
    },
    {
     "data": {
      "text/latex": [
       "$\\displaystyle (- g m)\\mathbf{\\hat{j}_{}}$"
      ],
      "text/plain": [
       "(-g*m)*.j"
      ]
     },
     "metadata": {},
     "output_type": "display_data"
    }
   ],
   "source": [
    "#item a)\n",
    "#Adotando um sistema onde y aponta para cima (vertical):\n",
    "Tv = T*sp.cos(tt)*C.j - T*sp.sin(tt)*C.i\n",
    "Pv = -m*g*C.j\n",
    "resp = display(Tv)\n",
    "resp = display(Pv)"
   ]
  },
  {
   "cell_type": "code",
   "execution_count": 39,
   "metadata": {},
   "outputs": [
    {
     "data": {
      "text/latex": [
       "$\\displaystyle 0$"
      ],
      "text/plain": [
       "0"
      ]
     },
     "execution_count": 39,
     "metadata": {},
     "output_type": "execute_result"
    }
   ],
   "source": [
    "#item b)\n",
    "#O vetor deslocamento é dado por:\n",
    "drv = -l*dtt*(-sp.cos(tt)*C.i+-sp.sin(tt)*C.j)\n",
    "#O produto escalar da tensão com dr é:\n",
    "Tv.dot(drv)\n",
    "#Logo WT = 0"
   ]
  },
  {
   "cell_type": "code",
   "execution_count": 40,
   "metadata": {},
   "outputs": [
    {
     "data": {
      "text/latex": [
       "$\\displaystyle - dθ g l m \\sin{\\left(\\theta \\right)}$"
      ],
      "text/plain": [
       "-dθ*g*l*m*sin(theta)"
      ]
     },
     "metadata": {},
     "output_type": "display_data"
    },
    {
     "data": {
      "text/latex": [
       "$\\displaystyle g l m \\left(1 - \\cos{\\left(\\theta_{0} \\right)}\\right)$"
      ],
      "text/plain": [
       "g*l*m*(1 - cos(theta_0))"
      ]
     },
     "metadata": {},
     "output_type": "display_data"
    }
   ],
   "source": [
    "#item c)\n",
    "#O produto escalar do peso com dr é:\n",
    "resp = display(Pv.dot(drv))\n",
    "#Então o trabalho do peso é:\n",
    "WP = sp.integrate(Pv.dot(drv)/dtt,(tt,tt0,0))\n",
    "resp = display(sp.simplify(WP))"
   ]
  },
  {
   "cell_type": "code",
   "execution_count": 42,
   "metadata": {},
   "outputs": [
    {
     "data": {
      "text/latex": [
       "$\\displaystyle (- \\sqrt{2} \\sqrt{g l \\left(1 - \\cos{\\left(\\theta_{0} \\right)}\\right)})\\mathbf{\\hat{i}_{}}$"
      ],
      "text/plain": [
       "(-sqrt(2)*sqrt(g*l*(1 - cos(theta_0))))*.i"
      ]
     },
     "execution_count": 42,
     "metadata": {},
     "output_type": "execute_result"
    }
   ],
   "source": [
    "#item d)\n",
    "#No ponto de menor altura:\n",
    "K = WP\n",
    "vsol = sp.solve(sp.Eq(m*v**2/2,K),v)[0]\n",
    "#E como a velocidade aponta contra o eixo x:\n",
    "v = vsol*(-C.i)\n",
    "v"
   ]
  },
  {
   "cell_type": "markdown",
   "metadata": {},
   "source": [
    "## Problema (Mola - plano inclinado)"
   ]
  },
  {
   "cell_type": "markdown",
   "metadata": {},
   "source": [
    "<font size=3px>Um bloco de massa $m=0,9$ kg parte com velocidade inicial $v_0$ (paralela ao plano)\n",
    "    e desliza sobre um plano inclidano sem atrito que faz um ângulo de $\\theta = 30^{\\circ}$ com a horizontal,\n",
    "    como mostrado na figura. Após deslizar uma distância $d= 70$ cm o bloco encontra uma mola\n",
    "    não deformada e desliza mais 30 cm até que sua velocidade instantânea seja zero. A constante\n",
    "    elástica da mola é $k = 190$ N/m. Adote $g = 10$ m/s$^2$.<br>\n",
    "    a) Qual a velocidade do bloco ao encontrar a mola? Escreva a sua resposta em termos de $v_0$.<br>\n",
    "    b) Qual a velocidade inicial do bloco ($v_0$)?\n",
    "</font>\n",
    "<img src=\"molaInclinado.png\" alt=\"Drawing\" style=\"width: 250px;\"/>"
   ]
  },
  {
   "cell_type": "code",
   "execution_count": null,
   "metadata": {},
   "outputs": [],
   "source": []
  },
  {
   "cell_type": "code",
   "execution_count": null,
   "metadata": {},
   "outputs": [],
   "source": []
  },
  {
   "cell_type": "code",
   "execution_count": null,
   "metadata": {},
   "outputs": [],
   "source": []
  },
  {
   "cell_type": "code",
   "execution_count": null,
   "metadata": {},
   "outputs": [],
   "source": []
  },
  {
   "cell_type": "markdown",
   "metadata": {},
   "source": [
    "## Problema (Blocos)"
   ]
  },
  {
   "cell_type": "markdown",
   "metadata": {},
   "source": [
    "<font size=3px>O sistema representado na figura está em equilíbrio e θ = $60^\\circ$.<br>\n",
    "Considere agora que o fio 2 é cortado. Após algum tempo, cada um dos blocos oscilará como\n",
    "um pêndulo. Se o comprimento do fio 1 é 10 cm, qual será a velocidade máxima atingida pelo\n",
    "bloco de 100 kg durante seu movimento de oscilação? Despreze forças de atrito.<br>\n",
    "</font>\n",
    "<img src=\"blocosTensoes.jpg\" alt=\"Drawing\" style=\"width: 250px;\"/>"
   ]
  },
  {
   "cell_type": "code",
   "execution_count": null,
   "metadata": {},
   "outputs": [],
   "source": []
  }
 ],
 "metadata": {
  "kernelspec": {
   "display_name": "Python 3",
   "language": "python",
   "name": "python3"
  },
  "language_info": {
   "codemirror_mode": {
    "name": "ipython",
    "version": 3
   },
   "file_extension": ".py",
   "mimetype": "text/x-python",
   "name": "python",
   "nbconvert_exporter": "python",
   "pygments_lexer": "ipython3",
   "version": "3.8.10"
  }
 },
 "nbformat": 4,
 "nbformat_minor": 2
}
