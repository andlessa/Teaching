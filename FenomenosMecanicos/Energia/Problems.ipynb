{
 "cells": [
  {
   "cell_type": "code",
   "execution_count": 1,
   "metadata": {},
   "outputs": [],
   "source": [
    "import numpy as np\n",
    "import matplotlib.pyplot as plt\n",
    "import scipy\n",
    "\n",
    "from matplotlib import animation, rc\n",
    "from IPython.display import HTML\n",
    "rc('animation', html='jshtml')\n",
    "import seaborn as sns\n",
    "\n",
    "#Define plotting style:\n",
    "sns.set() #Set style\n",
    "sns.set_style('ticks',{'font.family':'serif', 'font.serif':'Times New Roman'})\n",
    "sns.set_context('paper', font_scale=2.2)"
   ]
  },
  {
   "cell_type": "markdown",
   "metadata": {},
   "source": [
    "## Problema (Blocos)"
   ]
  },
  {
   "cell_type": "markdown",
   "metadata": {},
   "source": [
    "<font size=3px>O sistema representado na figura está em equilíbrio e θ = $60^\\circ$.<br>\n",
    "Considere agora que o fio 2 é cortado. Após algum tempo, cada um dos blocos oscilará como\n",
    "um pêndulo. Se o comprimento do fio 1 é 10 cm, qual será a velocidade máxima atingida pelo\n",
    "bloco de 100 kg durante seu movimento de oscilação? Despreze forças de atrito.<br>\n",
    "</font>\n",
    "<img src=\"blocosTensoes.jpg\" alt=\"Drawing\" style=\"width: 250px;\"/>"
   ]
  },
  {
   "cell_type": "markdown",
   "metadata": {},
   "source": [
    "## Problema (Pêndulo)"
   ]
  },
  {
   "cell_type": "markdown",
   "metadata": {},
   "source": [
    "<font size=3px>Um pêndulo feito de uma esfera de massa $m$ presa a um fio de massa \n",
    "    desprezível e comprimento $L$, é solto do ponto $A$, conforme mostra a figura. <br>\n",
    "    a) Qual a velocidade da esfera no ponto B?<br>\n",
    "    b) Qual a tração da corda quando ela está neste ponto?\n",
    "</font>\n",
    "<img src=\"pendulo.png\" alt=\"Drawing\" style=\"width: 250px;\"/>"
   ]
  },
  {
   "cell_type": "markdown",
   "metadata": {},
   "source": [
    "## Problema (Mola com atrito)"
   ]
  },
  {
   "cell_type": "markdown",
   "metadata": {},
   "source": [
    "<font size=3px>Uma mola de constante elástica $k = 20$ N/m está presa a um bloco de massa $m = 5$ kg. O bloco é\n",
    "    colocado na posição $x_0 = -1$ m e solto a partir do repouso. A mola encontra-se relaxada quando a posição do bloco\n",
    "    é $x=0$. Se a superfície possui um coeficiente de atrito cinético $\\mu_k = 0.01$, determine:<br>\n",
    "    a) a posição máxima do bloco,<br>\n",
    "    b) a energia cinética máxima do bloco.\n",
    "</font>"
   ]
  },
  {
   "cell_type": "code",
   "execution_count": null,
   "metadata": {},
   "outputs": [],
   "source": []
  }
 ],
 "metadata": {
  "kernelspec": {
   "display_name": "Python 3",
   "language": "python",
   "name": "python3"
  },
  "language_info": {
   "codemirror_mode": {
    "name": "ipython",
    "version": 3
   },
   "file_extension": ".py",
   "mimetype": "text/x-python",
   "name": "python",
   "nbconvert_exporter": "python",
   "pygments_lexer": "ipython3",
   "version": "3.7.3"
  }
 },
 "nbformat": 4,
 "nbformat_minor": 2
}
