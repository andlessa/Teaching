{
 "cells": [
  {
   "cell_type": "code",
   "execution_count": null,
   "metadata": {},
   "outputs": [],
   "source": [
    "import numpy as np\n",
    "import matplotlib.pyplot as plt\n",
    "import scipy\n",
    "\n",
    "from matplotlib import animation, rc\n",
    "from IPython.display import HTML\n",
    "rc('animation', html='jshtml')\n",
    "import seaborn as sns\n",
    "\n",
    "#Define plotting style:\n",
    "sns.set() #Set style\n",
    "sns.set_style('ticks',{'font.family':'serif', 'font.serif':'Times New Roman'})\n",
    "sns.set_context('paper', font_scale=2.2)"
   ]
  },
  {
   "cell_type": "markdown",
   "metadata": {},
   "source": [
    "## Problema 1 (Mola)"
   ]
  },
  {
   "cell_type": "markdown",
   "metadata": {},
   "source": [
    "<font size=3px>Uma mola de constante elástica $k$ está presa a um bloco de massa $m$. O bloco é\n",
    "    colocado na posição $x_0$ e solto a partir do repouso. A mola encontra-se relaxada quando a posição do bloco\n",
    "    é $x=0$. Se não existe atrito com o plano, determine:<br>\n",
    "    a) a velocidade máxima do bloco,<br>\n",
    "    b) a posição máxima do bloco,<br>\n",
    "    c) a posição máxima do bloco se a superfície possui um coeficiente de atrito cinético $\\mu_k$.\n",
    "</font>"
   ]
  },
  {
   "cell_type": "code",
   "execution_count": null,
   "metadata": {},
   "outputs": [],
   "source": [
    "L0 = 0.\n",
    "k = 1.\n",
    "m = 1.\n",
    "muk = 0.\n",
    "g=9.8\n",
    "\n",
    "def F(t,xv):\n",
    "    x,v = xv\n",
    "    if xv[1] != 0.:\n",
    "        return -k*(x-L0) -muk*m*g*xv[1]/abs(xv[1])\n",
    "    else:\n",
    "        return -k*(x-L0)\n",
    "\n",
    "def a(t,xv):\n",
    "    return F(t,xv)/m\n",
    "\n",
    "def RHS(t,xv):\n",
    "    return [xv[1],a(t,xv)]\n",
    "\n",
    "v0 = 0.\n",
    "x0 = -1.\n",
    "xv0 = [x0,v0]\n",
    "t0, tf = 0.,15.\n",
    "sol = scipy.integrate.solve_ivp(RHS,(t0,tf),xv0,rtol=1e-7,atol=1e-7)\n",
    "xF = scipy.interpolate.interp1d(sol.t,sol.y[0,:])\n",
    "vF = scipy.interpolate.interp1d(sol.t,sol.y[1,:])\n",
    "\n",
    "def KF(t):\n",
    "    return (m*vF(t)**2)/2.\n",
    "\n",
    "def UF(t):\n",
    "    return k*((xF(t)-L0)**2)/2."
   ]
  },
  {
   "cell_type": "code",
   "execution_count": null,
   "metadata": {},
   "outputs": [],
   "source": [
    "tmin, tmax = t0,tf\n",
    "dt = 0.1\n",
    "tpts = np.linspace(tmin,tmax,100)\n",
    "\n",
    "fig = plt.figure(figsize=(22,7))\n",
    "ax1 = plt.subplot(121)\n",
    "pt, = ax1.plot([xF(tmin),0.],'o',markersize=25)\n",
    "line, = ax1.plot([0.,xF(tmin)],[0.,0.],'--')\n",
    "xlabel = ax1.set_xlabel('x (m)')\n",
    "ax1.set_xlim(-2*abs(x0-L0),2*abs(x0-L0))\n",
    "ax1.set_ylim(-0.1,0.1)\n",
    "\n",
    "ax2 = plt.subplot(122)\n",
    "Kl, = ax2.plot(tpts,KF(tpts),'--',linewidth=4.0)\n",
    "Ul, = ax2.plot(tpts,UF(tpts),'--',linewidth=4.0)\n",
    "El, = ax2.plot(tpts,KF(tpts)+UF(tpts),linewidth=4.0)\n",
    "xlabel = ax2.set_xlabel('t (s)')\n",
    "ax2.legend(['K','U','K+U'],loc='upper right',framealpha=1.0,fontsize=25.0)\n",
    "\n",
    "\n",
    "def init():\n",
    "    tpts = [tmin]\n",
    "    pt.set_data([xF(tmin)],[0.])\n",
    "    line.set_data([0.,xF(tmin)],[0.,0.])\n",
    "    line._linewidth = 3.0\n",
    "    Kl.set_data(tpts,KF(tpts))\n",
    "    Ul.set_data(tpts,UF(tpts))    \n",
    "    return (pt,line,Kl,Ul)\n",
    "\n",
    "def animate(i):\n",
    "    \n",
    "    tA = tmin+i*dt\n",
    "    tpts = np.linspace(tmin,tA,100)\n",
    "    xpt = [xF(tA)]\n",
    "    ypt = [0.]\n",
    "    pt.set_data(xpt,ypt)\n",
    "    line.set_data([0.,xF(tA)],[0.,0.])\n",
    "    line._linewidth = 2.0/(0.1+abs(xF(tA)-L0))\n",
    "    Kl.set_data(tpts,KF(tpts))\n",
    "    Ul.set_data(tpts,UF(tpts))    \n",
    "    return (pt,line,Kl,Ul)\n",
    "\n",
    "\n",
    "anim = animation.FuncAnimation(fig, animate, init_func=init,\n",
    "                               frames=int((tmax-tmin)/dt), interval=50, \n",
    "                               blit=True)\n",
    "plt.close()\n",
    "anim\n",
    "# plt.show()"
   ]
  }
 ],
 "metadata": {
  "kernelspec": {
   "display_name": "Python 3",
   "language": "python",
   "name": "python3"
  },
  "language_info": {
   "codemirror_mode": {
    "name": "ipython",
    "version": 3
   },
   "file_extension": ".py",
   "mimetype": "text/x-python",
   "name": "python",
   "nbconvert_exporter": "python",
   "pygments_lexer": "ipython3",
   "version": "3.6.3"
  }
 },
 "nbformat": 4,
 "nbformat_minor": 2
}
