{
 "cells": [
  {
   "cell_type": "code",
   "execution_count": null,
   "metadata": {},
   "outputs": [],
   "source": [
    "import numpy as np\n",
    "import matplotlib.pyplot as plt\n",
    "import scipy\n",
    "\n",
    "from matplotlib import animation, rc\n",
    "from IPython.display import HTML\n",
    "rc('animation', html='jshtml')\n",
    "import seaborn as sns\n",
    "\n",
    "#Define plotting style:\n",
    "sns.set() #Set style\n",
    "sns.set_style('ticks',{'font.family':'serif', 'font.serif':'Times New Roman'})\n",
    "sns.set_context('paper', font_scale=2.2)"
   ]
  },
  {
   "cell_type": "markdown",
   "metadata": {},
   "source": [
    "### Problema (Montanha russa)"
   ]
  },
  {
   "cell_type": "markdown",
   "metadata": {},
   "source": [
    "<font size=3px>Um carrinho com massa igual a $m = 120$ kg desliza do alto de uma montanha russa\n",
    "    de $h = 10$ m de altura, com atrito desprezível, conforme mostra a figura. Chegando no ponto A,\n",
    "    na base da montanha, o carrinho é freiado pelo terreno devido à força de atrito, parando\n",
    "    em 2 segundos. Use $g = 10$ m/s$^2$.<br>\n",
    "    a) Qual o trabalho exercido pela força de atrito no trecho AB?<br>\n",
    "    b) Qual o coeficiente de atrito cinético entre o carrinho e o terreno?<br>\n",
    "    c) Qual deve ser a extensão do terreno AB?\n",
    "</font>\n",
    "<img src=\"montanhaRussa.png\" alt=\"Drawing\" style=\"width: 450px;\"/>"
   ]
  },
  {
   "cell_type": "code",
   "execution_count": null,
   "metadata": {},
   "outputs": [],
   "source": [
    "g=10.\n",
    "h=10.\n",
    "m=120.\n",
    "t = 2.\n",
    "v0 = np.sqrt(2*g*h)\n",
    "Kf = 0.\n",
    "K0 = m*v0**2/2\n",
    "dK = Kf-K0\n",
    "WAB = dK\n",
    "a = v0/t\n",
    "muk = a/g\n",
    "d = -WAB/(m*g*muk)\n",
    "print('a) W = %2.1f J' %WAB)\n",
    "print('b) muk = %2.3f' %muk)\n",
    "print('c) LAB = %2.3f m' %d)"
   ]
  }
 ],
 "metadata": {
  "kernelspec": {
   "display_name": "Python 3",
   "language": "python",
   "name": "python3"
  },
  "language_info": {
   "codemirror_mode": {
    "name": "ipython",
    "version": 3
   },
   "file_extension": ".py",
   "mimetype": "text/x-python",
   "name": "python",
   "nbconvert_exporter": "python",
   "pygments_lexer": "ipython3",
   "version": "3.8.10"
  }
 },
 "nbformat": 4,
 "nbformat_minor": 2
}
