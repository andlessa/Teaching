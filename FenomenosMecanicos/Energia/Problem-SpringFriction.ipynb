{
 "cells": [
  {
   "cell_type": "code",
   "execution_count": null,
   "metadata": {},
   "outputs": [],
   "source": [
    "import numpy as np\n",
    "import matplotlib.pyplot as plt\n",
    "import scipy\n",
    "\n",
    "from matplotlib import animation, rc\n",
    "from IPython.display import HTML\n",
    "rc('animation', html='jshtml')\n",
    "import seaborn as sns\n",
    "\n",
    "#Define plotting style:\n",
    "sns.set() #Set style\n",
    "sns.set_style('ticks',{'font.family':'serif', 'font.serif':'Times New Roman'})\n",
    "sns.set_context('paper', font_scale=2.2)"
   ]
  },
  {
   "cell_type": "markdown",
   "metadata": {},
   "source": [
    "## Problema (Mola com atrito)"
   ]
  },
  {
   "cell_type": "markdown",
   "metadata": {},
   "source": [
    "<font size=3px>Uma mola de constante elástica $k = 20$ N/m está presa a um bloco de massa $m = 5$ kg. O bloco é\n",
    "    colocado na posição $x_0 = -1$ m e solto a partir do repouso. A mola encontra-se relaxada quando a posição do bloco\n",
    "    é $x=0$. Se a superfície possui um coeficiente de atrito cinético $\\mu_k = 0.01$, determine:<br>\n",
    "    a) a posição máxima do bloco,<br>\n",
    "    b) a energia cinética máxima do bloco.\n",
    "</font>"
   ]
  },
  {
   "cell_type": "code",
   "execution_count": null,
   "metadata": {},
   "outputs": [],
   "source": [
    "L0 = 0.\n",
    "k = 20.\n",
    "m = 5.\n",
    "muk = 0.01 #should be small to allow for many oscillations (~0.01)\n",
    "g = 9.8\n",
    "\n",
    "def F(t,xv):\n",
    "    x,v = xv\n",
    "    if xv[1] != 0.:\n",
    "        return -k*(x-L0) -muk*m*g*xv[1]/abs(xv[1])\n",
    "    else:\n",
    "        return -k*(x-L0)\n",
    "\n",
    "def a(t,xv):\n",
    "    return F(t,xv)/m\n",
    "\n",
    "def RHS(t,xv):\n",
    "    return [xv[1],a(t,xv)]\n",
    "\n",
    "v0 = 0.\n",
    "x0 = -1.\n",
    "xv0 = [x0,v0]\n",
    "t0, tf = 0.,15.\n",
    "sol = scipy.integrate.solve_ivp(RHS,(t0,tf),xv0,rtol=1e-7,atol=1e-7,max_step=0.1)\n",
    "xmin,xmax = min(sol.y[0,:]),max(sol.y[0,:])\n",
    "xF = scipy.interpolate.interp1d(sol.t,sol.y[0,:])\n",
    "vF = scipy.interpolate.interp1d(sol.t,sol.y[1,:])\n",
    "\n",
    "def KF(t):\n",
    "    return (m*vF(t)**2)/2.\n",
    "\n",
    "def UF(t):\n",
    "    return k*((xF(t)-L0)**2)/2."
   ]
  },
  {
   "cell_type": "code",
   "execution_count": null,
   "metadata": {},
   "outputs": [],
   "source": [
    "tmin, tmax = t0,tf\n",
    "dt = 0.1\n",
    "tpts = np.linspace(tmin,tmax,100)\n",
    "\n",
    "fig = plt.figure(figsize=(22,7))\n",
    "ax1 = plt.subplot(121)\n",
    "pt, = ax1.plot([xF(tmin),0.],'o',markersize=25)\n",
    "line, = ax1.plot([0.,xF(tmin)],[0.,0.],'--')\n",
    "textA = ax1.text((xmax+xmin)/2, 0.09, r'$x=%2.3f$ m' %xF(tmin),fontsize=20)\n",
    "xlabel = ax1.set_xlabel('x (m)')\n",
    "ax1.set_xlim(-2*abs(x0-L0),2*abs(x0-L0))\n",
    "ax1.set_ylim(-0.1,0.1)\n",
    "\n",
    "ax2 = plt.subplot(122)\n",
    "Kl, = ax2.plot(tpts,KF(tpts),'--',linewidth=4.0)\n",
    "Ul, = ax2.plot(tpts,UF(tpts),'--',linewidth=4.0)\n",
    "El, = ax2.plot(tpts,KF(tpts)+UF(tpts),linewidth=4.0)\n",
    "text = ax2.text((tmax+tmin)/2, 0.8*(KF(tmin)+UF(tmin)), r'$K=%2.3f$ J' %KF(tmin),fontsize=20)\n",
    "xlabel = ax2.set_xlabel('t (s)')\n",
    "ax2.legend(['K','U','K+U'],loc='upper right',framealpha=1.0,fontsize=25.0)\n",
    "\n",
    "\n",
    "def init():\n",
    "    tpts = [tmin]\n",
    "    pt.set_data([xF(tmin)],[0.])\n",
    "    line.set_data([0.,xF(tmin)],[0.,0.])\n",
    "    line._linewidth = 3.0\n",
    "    Kl.set_data(tpts,KF(tpts))\n",
    "    Ul.set_data(tpts,UF(tpts))\n",
    "    textA.set_text(r'$x=%2.3f$ m' %xF(tmin))\n",
    "    text.set_text(r'$K=%2.3f$ J' %KF(tmin))\n",
    "    return (pt,line,Kl,Ul,text)\n",
    "\n",
    "def animate(i):\n",
    "    \n",
    "    tA = tmin+i*dt\n",
    "    tpts = np.linspace(tmin,tA,100)\n",
    "    xpt = [xF(tA)]\n",
    "    ypt = [0.]\n",
    "    pt.set_data(xpt,ypt)\n",
    "    line.set_data([0.,xF(tA)],[0.,0.])\n",
    "    line._linewidth = 4.0/(0.1+abs(xF(tA)-L0)/2.)\n",
    "    Kl.set_data(tpts,KF(tpts))\n",
    "    Ul.set_data(tpts,UF(tpts))\n",
    "    textA.set_text(r'$x=%2.3f$ m' %xF(tA))\n",
    "    text.set_text(r'$K=%2.3f$ J' %KF(tA))\n",
    "    return (pt,line,Kl,Ul,text)\n",
    "\n",
    "\n",
    "anim = animation.FuncAnimation(fig, animate, init_func=init,\n",
    "                               frames=int((tmax-tmin)/dt), interval=50, \n",
    "                               blit=True)\n",
    "plt.close()\n",
    "anim\n",
    "# plt.show()"
   ]
  },
  {
   "cell_type": "markdown",
   "metadata": {},
   "source": [
    "#### Respostas:"
   ]
  },
  {
   "cell_type": "code",
   "execution_count": null,
   "metadata": {},
   "outputs": [],
   "source": [
    "xmax = np.sqrt((m*g*muk/k)**2 + (x0**2 + 2*m*g*muk*x0/k)) - m*g*muk/k\n",
    "Kmax = k*(x0**2)/2 + ((m*g*muk)**2)/(2*k) + m*g*muk*x0\n",
    "print('a) xmax = %2.3f m' %xmax)\n",
    "print('b) Kmax = %2.3f J' %Kmax)"
   ]
  }
 ],
 "metadata": {
  "kernelspec": {
   "display_name": "Python 3",
   "language": "python",
   "name": "python3"
  },
  "language_info": {
   "codemirror_mode": {
    "name": "ipython",
    "version": 3
   },
   "file_extension": ".py",
   "mimetype": "text/x-python",
   "name": "python",
   "nbconvert_exporter": "python",
   "pygments_lexer": "ipython3",
   "version": "3.6.3"
  }
 },
 "nbformat": 4,
 "nbformat_minor": 2
}
