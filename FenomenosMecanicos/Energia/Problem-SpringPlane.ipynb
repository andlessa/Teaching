{
 "cells": [
  {
   "cell_type": "code",
   "execution_count": null,
   "metadata": {},
   "outputs": [],
   "source": [
    "import numpy as np\n",
    "import matplotlib.pyplot as plt\n",
    "import scipy\n",
    "\n",
    "from matplotlib import animation, rc\n",
    "from IPython.display import HTML\n",
    "rc('animation', html='jshtml')\n",
    "import seaborn as sns\n",
    "\n",
    "#Define plotting style:\n",
    "sns.set() #Set style\n",
    "sns.set_style('ticks',{'font.family':'serif', 'font.serif':'Times New Roman'})\n",
    "sns.set_context('paper', font_scale=2.2)"
   ]
  },
  {
   "cell_type": "markdown",
   "metadata": {},
   "source": [
    "## Problema (Mola - plano inclinado)"
   ]
  },
  {
   "cell_type": "markdown",
   "metadata": {},
   "source": [
    "<font size=3px>Um bloco de massa $m=0,9$ kg parte com velocidade inicial $v_0$ (paralela ao plano)\n",
    "    e desliza sobre um plano inclidano sem atrito que faz um ângulo de $\\theta = 30^{\\circ}$ com a horizontal,\n",
    "    como mostrado na figura. Após deslizar uma distância $d= 70$ cm o bloco encontra uma mola\n",
    "    não deformada e desliza mais 30 cm até que sua velocidade instantânea seja zero. A constante\n",
    "    elástica da mola é $k = 190$ N/m. Adote $g = 10$ m/s$^2$.<br>\n",
    "    a) Qual a velocidade do bloco ao encontrar a mola? Escreva a sua resposta em termos de $v_0$.<br>\n",
    "    b) Qual a velocidade inicial do bloco ($v_0$)?\n",
    "</font>\n",
    "<img src=\"molaInclinado.png\" alt=\"Drawing\" style=\"width: 250px;\"/>"
   ]
  },
  {
   "cell_type": "code",
   "execution_count": null,
   "metadata": {},
   "outputs": [],
   "source": [
    "theta = 30.*np.pi/180.\n",
    "m = 0.9\n",
    "g = 10.0\n",
    "d = 0.7\n",
    "k = 190.\n",
    "dl = 0.3\n",
    "\n",
    "def F(t,xv):\n",
    "    x,v = xv\n",
    "    if x < d:\n",
    "        return m*g*np.sin(theta)\n",
    "    else:\n",
    "        return m*g*np.sin(theta)-k*(x-d)\n",
    "\n",
    "def a(t,xv):\n",
    "    return F(t,xv)/m\n",
    "\n",
    "def RHS(t,xv):\n",
    "    return [xv[1],a(t,xv)]\n",
    "\n",
    "v0 = np.sqrt(k*(dl**2)/m - 2.*g*(d+dl)*np.sin(theta))\n",
    "x0 = 0.\n",
    "xv0 = [x0,v0]\n",
    "t0, tf = 0.,1.5\n",
    "sol = scipy.integrate.solve_ivp(RHS,(t0,tf),xv0,rtol=1e-3,atol=1e-5,max_step=0.01)\n",
    "xmax,xmin = max(sol.y[0,:]),min(sol.y[0,:])\n",
    "xF = scipy.interpolate.interp1d(sol.t,sol.y[0,:])\n",
    "vF = scipy.interpolate.interp1d(sol.t,sol.y[1,:])\n",
    "\n",
    "def KF(t):\n",
    "    return (m*vF(t)**2)/2.\n",
    "\n",
    "def UkF(t):   \n",
    "    return k*(np.heaviside(xF(t)-d,1.)*(xF(t)-d)**2)/2.\n",
    "\n",
    "def UgF(t):\n",
    "    return m*g*(xmax-xF(t))*np.sin(theta)\n",
    "\n",
    "def UF(t):\n",
    "    return UkF(t)+UgF(t)"
   ]
  },
  {
   "cell_type": "code",
   "execution_count": null,
   "metadata": {},
   "outputs": [],
   "source": [
    "tmin, tmax = t0,tf\n",
    "dt = 0.05\n",
    "tpts = np.linspace(tmin,tmax,100)\n",
    "\n",
    "fig = plt.figure(figsize=(22,7))\n",
    "ax1 = plt.subplot(131)\n",
    "pt, = ax1.plot([xF(tmin),0.],'o',markersize=25)\n",
    "line, = ax1.plot([xmax,max(xF(tmin),d)],[0.,0.],'--')\n",
    "xlabel = ax1.set_xlabel('x (m)')\n",
    "ax1.set_xlim(xmin,xmax)\n",
    "ax1.set_ylim(-0.1,0.1)\n",
    "\n",
    "ax2 = plt.subplot(132)\n",
    "Kl, = ax2.plot(tpts,KF(tpts),'--',linewidth=4.0)\n",
    "Ukl, = ax2.plot(tpts,UkF(tpts),'--',linewidth=4.0)\n",
    "Ugl, = ax2.plot(tpts,UgF(tpts),'--',linewidth=4.0)\n",
    "El, = ax2.plot(tpts,KF(tpts)+UF(tpts),linewidth=4.0)\n",
    "xlabel = ax2.set_xlabel('t (s)')\n",
    "ax2.legend(['K','Uk','Ug','K+U'],loc='upper right',framealpha=1.0,fontsize=25.0)\n",
    "\n",
    "\n",
    "ax3 = plt.subplot(133)\n",
    "Ufunc, = ax3.plot(xF(tpts),UF(tpts),'-',linewidth=4.0)\n",
    "ptB, = ax3.plot([xF(tmin)],[UF(tmin)],'o',markersize=20)\n",
    "ax3.plot([xmin,xmax],[KF(tmin)+UF(tmin),KF(tmin)+UF(tmin)],'-',linewidth=3)\n",
    "xlabel = ax3.set_xlabel('x (m)')\n",
    "ylabel = ax3.set_ylabel('U(x) (J)')\n",
    "\n",
    "\n",
    "\n",
    "def init():\n",
    "    tpts = [tmin]\n",
    "    pt.set_data([xF(tmin)],[0.])\n",
    "    line.set_data([xmax,max(xF(tmin),d)],[0.,0.])\n",
    "    line._linewidth = 3.0\n",
    "    Kl.set_data(tpts,KF(tpts))\n",
    "    Ukl.set_data(tpts,UkF(tpts))    \n",
    "    Ugl.set_data(tpts,UgF(tpts))\n",
    "    ptB.set_data([xF(tmin)],[UF(tmin)])\n",
    "    \n",
    "    return (pt,line,Kl,Ukl,Ugl,ptB)\n",
    "\n",
    "def animate(i):\n",
    "    \n",
    "    tA = tmin+i*dt\n",
    "    tpts = np.linspace(tmin,tA,100)\n",
    "    xpt = [xF(tA)]\n",
    "    ypt = [0.]\n",
    "    pt.set_data(xpt,ypt)\n",
    "    line.set_data([xmax,max(xF(tA),d)],[0.,0.])\n",
    "    if xF(tA) > d:\n",
    "        line._linewidth = 4.0/(0.1+abs(xF(tA)-d)/2.)\n",
    "    else:\n",
    "        line._linewidth = 4.0/0.1\n",
    "    Kl.set_data(tpts,KF(tpts))\n",
    "    Ugl.set_data(tpts,UgF(tpts))    \n",
    "    Ukl.set_data(tpts,UkF(tpts))\n",
    "    ptB.set_data([xF(tA)],[UF(tA)])\n",
    "    return (pt,line,Kl,Ukl,Ugl,ptB)\n",
    "\n",
    "\n",
    "anim = animation.FuncAnimation(fig, animate, init_func=init,\n",
    "                               frames=int((tmax-tmin)/dt), interval=50, \n",
    "                               blit=True)\n",
    "plt.close()\n",
    "anim\n",
    "# plt.show()"
   ]
  },
  {
   "cell_type": "markdown",
   "metadata": {},
   "source": [
    "#### Respostas:"
   ]
  },
  {
   "cell_type": "code",
   "execution_count": null,
   "metadata": {},
   "outputs": [],
   "source": [
    "vF = np.sqrt(v0**2 + 2*g*d*np.sin(theta))\n",
    "v0 = np.sqrt(k*(dl**2)/m - 2.*g*(d+dl)*np.sin(theta))\n",
    "print('a) vF = %2.3f m/s' %vF)\n",
    "print('b) v0 = %2.3f m/s' %v0)"
   ]
  },
  {
   "cell_type": "code",
   "execution_count": null,
   "metadata": {},
   "outputs": [],
   "source": []
  }
 ],
 "metadata": {
  "kernelspec": {
   "display_name": "Python 3",
   "language": "python",
   "name": "python3"
  },
  "language_info": {
   "codemirror_mode": {
    "name": "ipython",
    "version": 3
   },
   "file_extension": ".py",
   "mimetype": "text/x-python",
   "name": "python",
   "nbconvert_exporter": "python",
   "pygments_lexer": "ipython3",
   "version": "3.7.3"
  }
 },
 "nbformat": 4,
 "nbformat_minor": 2
}
